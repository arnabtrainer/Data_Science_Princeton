{
 "cells": [
  {
   "cell_type": "markdown",
   "id": "5a996d26-7d84-4e63-86e1-641d7fe377ad",
   "metadata": {},
   "source": [
    "# **Python Scripting**"
   ]
  },
  {
   "cell_type": "markdown",
   "id": "2487d476-744e-4289-9d28-60f08cc8812c",
   "metadata": {},
   "source": [
    "## **Section-1: Python Inputs and Outputs**"
   ]
  },
  {
   "cell_type": "code",
   "execution_count": 5,
   "id": "370c9962-a327-431a-ab85-9792819b0db4",
   "metadata": {},
   "outputs": [
    {
     "name": "stdin",
     "output_type": "stream",
     "text": [
      "Please enter the first number:  100\n",
      "Please enter the second number:  200\n"
     ]
    },
    {
     "name": "stdout",
     "output_type": "stream",
     "text": [
      "<class 'str'> <class 'str'> <class 'str'>\n",
      "100 200 100200\n",
      "End of the program...\n"
     ]
    }
   ],
   "source": [
    "# Addition of two integer numbers\n",
    "num1 = input(\"Please enter the first number: \")\n",
    "num2 = input(\"Please enter the second number: \")\n",
    "total = num1 + num2\n",
    "print (type(num1), type(num2), type(total))\n",
    "print(num1, num2, total)\n",
    "print(\"End of the program...\")"
   ]
  },
  {
   "cell_type": "code",
   "execution_count": 6,
   "id": "904332fb",
   "metadata": {},
   "outputs": [
    {
     "name": "stdin",
     "output_type": "stream",
     "text": [
      "Please enter the first number:  100\n",
      "Please enter the second number:  200\n"
     ]
    },
    {
     "name": "stdout",
     "output_type": "stream",
     "text": [
      "<class 'int'> <class 'int'> <class 'int'>\n",
      "100 200 300\n",
      "End of the program...\n"
     ]
    }
   ],
   "source": [
    "# Addition of two integer numbers\n",
    "num1 = int(input(\"Please enter the first number: \"))\n",
    "num2 = int(input(\"Please enter the second number: \"))\n",
    "total = num1 + num2\n",
    "print (type(num1), type(num2), type(total))\n",
    "print(num1, num2, total)\n",
    "print(\"End of the program...\")"
   ]
  },
  {
   "cell_type": "code",
   "execution_count": 21,
   "id": "b230803e-3b6c-4ab2-a18a-6c03d9b24fbe",
   "metadata": {},
   "outputs": [
    {
     "name": "stdout",
     "output_type": "stream",
     "text": [
      "So 100 + 200 = 300\n",
      "So 100 + 200 = 300\n",
      "So 100 + 200 = 300\n",
      "So 100 + 200 = 300\n",
      "So 100 + 200 = 300\n",
      "So 100 + 200 = 300\n",
      "So 100 + 200 = 300\n",
      "So 100 + 200 = 300\n",
      "So 100 + 200 = 300.000000\n",
      "So 100 + 200 =    300.000\n",
      "So 100 + 200 = 300\n"
     ]
    }
   ],
   "source": [
    "print(\"So\", num1, \"+\", num2, \"=\", total)\n",
    "print(\"So \" + str(num1) + \" + \" + str(num2) + \" = \" + str(total))\n",
    "print(\"So {} + {} = {}\".format(num1, num2, total))   # {} is called variable placeholder\n",
    "print(\"So {0} + {1} = {2}\".format(num1, num2, total))  # indexed placeholder\n",
    "print(\"So {2} + {1} = {0}\".format(total, num2, num1))  # indexed placeholder\n",
    "print(\"So {fnum} + {snum} = {tot}\".format(fnum = num1, snum = num2, tot = total))  # labelled placeholder\n",
    "print(\"So {fnum} + {snum} = {tot}\".format(fnum = num1, tot = total, snum = num2))  # labelled placeholder\n",
    "print(\"So %d + %d = %d\"%(num1, num2, total))\n",
    "print(\"So %d + %d = %f\"%(num1, num2, total))\n",
    "print(\"So %d + %d = %10.3f\"%(num1, num2, total))\n",
    "print(f\"So {num1} + {num2} = {total}\")  # smart formatting"
   ]
  },
  {
   "cell_type": "markdown",
   "id": "0a461c85-507e-4a98-b3dc-1ab3f7cadf74",
   "metadata": {},
   "source": [
    "## **Dynamic Variable Types**"
   ]
  },
  {
   "cell_type": "code",
   "execution_count": 25,
   "id": "07d0698e-9562-4185-846a-bca297398e9b",
   "metadata": {},
   "outputs": [
    {
     "name": "stdout",
     "output_type": "stream",
     "text": [
      "100 <class 'int'> 140737211649928\n",
      "100.5 <class 'float'> 2483861781456\n",
      "Python <class 'str'> 140737210385320\n",
      "P <class 'str'> 140737211691848\n",
      "Punch <class 'str'> 2483867714672\n",
      "P <class 'str'> 140737211691848\n",
      "True <class 'bool'> 140737210174016\n",
      "False <class 'bool'> 140737210174048\n"
     ]
    }
   ],
   "source": [
    "var1 = 100; print (var1, type(var1), id(var1))\n",
    "var1 = 100.5; print (var1, type(var1), id(var1))\n",
    "var1 = \"Python\"; print (var1, type(var1), id(var1))\n",
    "var1 = \"P\"; print (var1, type(var1), id(var1))\n",
    "var1 = 'Punch'; print (var1, type(var1), id(var1))\n",
    "var1 = 'P'; print (var1, type(var1), id(var1))\n",
    "var1 = True; print (var1, type(var1), id(var1))\n",
    "var1 = False; print (var1, type(var1), id(var1))"
   ]
  },
  {
   "cell_type": "markdown",
   "id": "30e89c80-439a-44b3-9da4-ba1d8eb40485",
   "metadata": {},
   "source": [
    "## **Python Operators**"
   ]
  },
  {
   "cell_type": "code",
   "execution_count": null,
   "id": "e5307e0d-63c8-4603-8e28-11614cf0d527",
   "metadata": {},
   "outputs": [],
   "source": [
    "# Arithmetic Operators: + - * / // ** %\n",
    "# Conditional Operators: > >= < <= != ==\n",
    "# Logical Operators: and or not\n",
    "# Assignment Operator: = \n",
    "# Special Assignment Operators: += -= *= /= //= **= %=\n",
    "\n",
    "# Operators: Unary, Binary, Ternary\n",
    "# Unary Operators (Require only one operand): +100 -300\n",
    "# Binary Operators (Require only two operands): 700 + 100    900 - 300\n",
    "# Ternary Operator (Requires only three operands)\n",
    "\n",
    "num = 100\n",
    "result = \"Even\" if (num % 2 == 0) else \"ODD\"  # Ternary Operator\n",
    "print (num, result)\n",
    "num = 101\n",
    "result = \"Even\" if (num % 2 == 0) else \"ODD\"  # Ternary Operator\n",
    "print (num, result)"
   ]
  },
  {
   "cell_type": "code",
   "execution_count": 34,
   "id": "2f1d1bb3-b9e1-4929-8573-f7596c1abeff",
   "metadata": {},
   "outputs": [
    {
     "name": "stdout",
     "output_type": "stream",
     "text": [
      "2.5 2\n",
      "1024\n"
     ]
    }
   ],
   "source": [
    "print (100 / 40, 100 // 40)  # float division, integer division\n",
    "print (2 ** 10)  # exponentiation operator"
   ]
  },
  {
   "cell_type": "code",
   "execution_count": 32,
   "id": "1ce6efcc-7c53-48a4-b843-1e55cc2a5012",
   "metadata": {},
   "outputs": [
    {
     "name": "stdout",
     "output_type": "stream",
     "text": [
      "HelloHelloHello\n",
      "Hello Hello Hello \n",
      "Hello Hello Hello \n",
      "Welcome Welcome Welcome Welcome Welcome \n"
     ]
    }
   ],
   "source": [
    "print (\"Hello\" * 3)\n",
    "print (\"Hello \" * 3)\n",
    "print ((\"Hello\" + \" \") * 3)\n",
    "print (\"Welcome \" * 5)"
   ]
  },
  {
   "cell_type": "code",
   "execution_count": 42,
   "id": "4658d631-2de7-4d6a-a873-36c60ec2218b",
   "metadata": {},
   "outputs": [
    {
     "name": "stdout",
     "output_type": "stream",
     "text": [
      "A a\n"
     ]
    }
   ],
   "source": [
    "# Bitwise Operators: & | ~ ^ (And, Or, Not, Xor respectively)\n",
    "# A = 65 = 64 + 1      = 0100 0001\n",
    "#                     or 0010 0000 => 32 = 0x20\n",
    "#                        ---------\n",
    "# a = 97 = 64 + 32 + 1 = 0110 0001  \n",
    "char1 = 'A'\n",
    "# char2 = chr(ord(char1) | 32)\n",
    "char2 = chr(ord(char1) | 0x20)\n",
    "print (char1, char2)"
   ]
  },
  {
   "cell_type": "code",
   "execution_count": 44,
   "id": "dab64621",
   "metadata": {},
   "outputs": [
    {
     "name": "stdout",
     "output_type": "stream",
     "text": [
      "a A\n"
     ]
    }
   ],
   "source": [
    "# Bitwise Operators: & | ~ ^ (And, Or, Not, Xor respectively)\n",
    "# a = 97 = 64 + 32 + 1 = 0110 0001  \n",
    "#                    and 1101 1111 => 255 - 32 = 223 = 0xdf\n",
    "#                        ---------\n",
    "# A = 65 = 64 + 1      = 0100 0001\n",
    "char1 = 'a'\n",
    "# char2 = chr(ord(char1) & 223)\n",
    "char2 = chr(ord(char1) & 0xdf)\n",
    "print (char1, char2)"
   ]
  },
  {
   "cell_type": "code",
   "execution_count": 46,
   "id": "0e99828f",
   "metadata": {},
   "outputs": [
    {
     "name": "stdout",
     "output_type": "stream",
     "text": [
      "a A\n",
      "A a\n"
     ]
    }
   ],
   "source": [
    "# a xor 1 = a', a xor 0 = a, a xor a = 0, a xor a' = 1\n",
    "# Bitwise Operators: & | ~ ^ (And, Or, Not, Xor respectively)\n",
    "# a = 97 = 64 + 32 + 1 = 0110 0001  \n",
    "#                    xor 0010 0000 => 32 = 0x20\n",
    "#                        ---------\n",
    "# A = 65 = 64 + 1      = 0100 0001\n",
    "char1 = 'a'\n",
    "char2 = chr(ord(char1) ^ 0x20)\n",
    "print (char1, char2)\n",
    "char1 = 'A'\n",
    "char2 = chr(ord(char1) ^ 32)\n",
    "print (char1, char2)"
   ]
  },
  {
   "cell_type": "markdown",
   "id": "196d4d50-c186-448d-a766-215af8c0f764",
   "metadata": {},
   "source": [
    "## **ASCII Codes and Characters**"
   ]
  },
  {
   "cell_type": "code",
   "execution_count": 36,
   "id": "14c673af-ce5c-4502-8f9f-31cade9f0794",
   "metadata": {},
   "outputs": [
    {
     "name": "stdout",
     "output_type": "stream",
     "text": [
      "65 97 90 122\n",
      "A a Z z\n"
     ]
    }
   ],
   "source": [
    "# ASCII (American Standard Code for Information Interchange) Codes\n",
    "# A => 65, B => 66, Z => 90\n",
    "# a => 97, b => 98, z => 122\n",
    "# 0 => 48, 1 => 49, 9 => 57\n",
    "# Space Bar/Blank => 32, Enter => 13, Esc => 27, Back Space => 9, Tab => 8\n",
    "# ASCII Code is 8 bits code ranging from 0 to 255\n",
    "# It can be divided into two categories:\n",
    "# 1. Normal ASCII Codes (0 to 127) - Printable\n",
    "# 2. Extended ASCII Codes (128 to 255) - Non-Printable\n",
    "print (ord('A'), ord('a'), ord('Z'), ord('z'))  # returns characters to ASCII Codes\n",
    "print (chr(65), chr(97), chr(90), chr(122))     # returns ASCII Codes to characters"
   ]
  },
  {
   "cell_type": "markdown",
   "id": "4b78950b-fd27-4d3e-9388-712029f296fa",
   "metadata": {},
   "source": [
    "## **Conditional Statements**"
   ]
  },
  {
   "cell_type": "code",
   "execution_count": 58,
   "id": "4e1498ae-105c-46c4-a1dd-8e901f08f5ba",
   "metadata": {},
   "outputs": [
    {
     "name": "stdin",
     "output_type": "stream",
     "text": [
      "Please enter the first integer number:  100\n",
      "Please enter the second integer number:  200\n",
      "Please enter the third integer number:  300\n"
     ]
    },
    {
     "name": "stdout",
     "output_type": "stream",
     "text": [
      "The third number is the maximum number...\n",
      "300 is the maximum number...\n",
      "End of the program...\n"
     ]
    }
   ],
   "source": [
    "# calculate the first maximum out of three user given integer numbers\n",
    "num1 = int(input(\"Please enter the first integer number: \"))\n",
    "num2 = int(input(\"Please enter the second integer number: \"))\n",
    "num3 = int(input(\"Please enter the third integer number: \"))\n",
    "if (num1 >= num2):\n",
    "    if (num1 >= num3):\n",
    "        print(\"The first number is the maximum number...\")\n",
    "        print (f\"{num1} is the maximum number...\")\n",
    "    else:\n",
    "        print(\"The third number is the maximum number...\")\n",
    "        print (f\"{num3} is the maximum number...\")\n",
    "elif (num2 >= num3):    # else if, elsif, elseif, elif\n",
    "        print(\"The second number is the maximum number...\")\n",
    "        print (f\"{num2} is the maximum number...\")\n",
    "else:\n",
    "    print(\"The third number is the maximum number...\")\n",
    "    print (f\"{num3} is the maximum number...\")\n",
    "print(\"End of the program...\")"
   ]
  },
  {
   "cell_type": "code",
   "execution_count": 59,
   "id": "10be5307",
   "metadata": {},
   "outputs": [
    {
     "name": "stdin",
     "output_type": "stream",
     "text": [
      "Please enter the first integer number:  100\n",
      "Please enter the second integer number:  300\n",
      "Please enter the third integer number:  200\n"
     ]
    },
    {
     "name": "stdout",
     "output_type": "stream",
     "text": [
      "The second number is the maximum number...\n",
      "300 is the maximum number...\n",
      "End of the program...\n"
     ]
    }
   ],
   "source": [
    "# calculate the first maximum out of three user given integer numbers\n",
    "num1 = int(input(\"Please enter the first integer number: \"))\n",
    "num2 = int(input(\"Please enter the second integer number: \"))\n",
    "num3 = int(input(\"Please enter the third integer number: \"))\n",
    "if (num1 >= num2 and num1 >= num3):\n",
    "    print(\"The first number is the maximum number...\")\n",
    "    print (f\"{num1} is the maximum number...\")\n",
    "elif (num2 >= num3):\n",
    "        print(\"The second number is the maximum number...\")\n",
    "        print (f\"{num2} is the maximum number...\")\n",
    "else:\n",
    "    print(\"The third number is the maximum number...\")\n",
    "    print (f\"{num3} is the maximum number...\")\n",
    "print(\"End of the program...\")"
   ]
  },
  {
   "cell_type": "markdown",
   "id": "e5f3d02f-4138-4d7b-8778-7b69722a469a",
   "metadata": {},
   "source": [
    "## **Class Assignment:**\n",
    "\n",
    ">Find out second highest integer number out of three user given integer numbers. Write a program in Python and test with multiple input combinations."
   ]
  },
  {
   "cell_type": "code",
   "execution_count": null,
   "id": "ee43650c-2575-4368-9294-84830078cb15",
   "metadata": {},
   "outputs": [],
   "source": [
    "num1, num2, num3\n",
    "num1, num2 => max1, max2\n",
    "\n",
    "                     max1                  max2\n",
    "                     700                   200\n",
    "num3 =          900                                    max1 = 700\n",
    "num3 =                          500                    num3 = 500\n",
    "num3 =                                         100     max2 = 200"
   ]
  },
  {
   "cell_type": "code",
   "execution_count": 66,
   "id": "359aee8c-a9b6-4b1d-bf4e-c4dc3135e7bf",
   "metadata": {},
   "outputs": [
    {
     "name": "stdin",
     "output_type": "stream",
     "text": [
      "Please enter the first integer number:  100\n",
      "Please enter the second integer number:  200\n",
      "Please enter the third integer number:  300\n"
     ]
    },
    {
     "name": "stdout",
     "output_type": "stream",
     "text": [
      "So the second maximum number is 100...\n",
      "End of the program...\n"
     ]
    }
   ],
   "source": [
    "num1 = int(input(\"Please enter the first integer number: \"))\n",
    "num2 = int(input(\"Please enter the second integer number: \"))\n",
    "num3 = int(input(\"Please enter the third integer number: \"))\n",
    "if (num1 >= num2):\n",
    "    max1, max2 = num1, num2\n",
    "else:\n",
    "    max1, max2 = num1, num2\n",
    "if (num3 >= max1):\n",
    "    print (f\"So the second maximum number is {max1}...\")\n",
    "elif (num3 >= max2):\n",
    "    print (f\"So the second maximum number is {num3}...\")\n",
    "else:\n",
    "    print (f\"So the second maximum number is {max2}...\")\n",
    "print (\"End of the program...\")"
   ]
  },
  {
   "cell_type": "markdown",
   "id": "231ff576-8ff0-4f45-82e6-b6929aa8879e",
   "metadata": {},
   "source": [
    "## **Dealing with 'print' statement**"
   ]
  },
  {
   "cell_type": "code",
   "execution_count": 67,
   "id": "5fddbd37-384f-428c-a1be-5650e90bb26e",
   "metadata": {},
   "outputs": [
    {
     "name": "stdout",
     "output_type": "stream",
     "text": [
      "Help on built-in function print in module builtins:\n",
      "\n",
      "print(*args, sep=' ', end='\\n', file=None, flush=False)\n",
      "    Prints the values to a stream, or to sys.stdout by default.\n",
      "    \n",
      "    sep\n",
      "      string inserted between values, default a space.\n",
      "    end\n",
      "      string appended after the last value, default a newline.\n",
      "    file\n",
      "      a file-like object (stream); defaults to the current sys.stdout.\n",
      "    flush\n",
      "      whether to forcibly flush the stream.\n",
      "\n"
     ]
    }
   ],
   "source": [
    "help(print)"
   ]
  },
  {
   "cell_type": "code",
   "execution_count": 74,
   "id": "af7dba13-fa44-404f-8e4f-d85ce72716fc",
   "metadata": {},
   "outputs": [
    {
     "name": "stdout",
     "output_type": "stream",
     "text": [
      "Hello Welcome\n",
      "Hello, Welcome\n",
      "Hello - Welcome, Good Bye\n"
     ]
    }
   ],
   "source": [
    "print (\"Hello\", \"Welcome\")\n",
    "print (\"Hello\", \"Welcome\", sep = \", \")\n",
    "print (\"Hello\", \"Welcome\", sep = \" - \", end = \", \")\n",
    "print (\"Good Bye\")"
   ]
  },
  {
   "cell_type": "markdown",
   "id": "76feab54-89c0-4cef-b895-8bac89cd8a3d",
   "metadata": {},
   "source": [
    "## **Section-2: Python Loops**"
   ]
  },
  {
   "cell_type": "code",
   "execution_count": 78,
   "id": "3f5f5da4-1303-4a94-b1dc-9ef72d7291c2",
   "metadata": {},
   "outputs": [
    {
     "name": "stdout",
     "output_type": "stream",
     "text": [
      "Current value in i = 1...\n",
      "Current value in i = 3...\n",
      "Current value in i = 5...\n",
      "Current value in i = 7...\n",
      "Current value in i = 9...\n",
      "Total number of loop iterations is 5...\n",
      "End of the program...\n"
     ]
    }
   ],
   "source": [
    "kount = 0\n",
    "for i in range(1, 10, 2):\n",
    "    print (f\"Current value in i = {i}...\")\n",
    "    kount += 1\n",
    "print (f\"Total number of loop iterations is {kount}...\")\n",
    "print (\"End of the program...\")"
   ]
  },
  {
   "cell_type": "code",
   "execution_count": 80,
   "id": "b420add3",
   "metadata": {},
   "outputs": [
    {
     "name": "stdout",
     "output_type": "stream",
     "text": [
      "Current value in i = 1...\n",
      "Current value in i = 3...\n",
      "Current value in i = 5...\n",
      "Current value in i = 7...\n",
      "Current value in i = 9...\n",
      "ELSE: Executing the else block...\n",
      "ELSE: Smooth execution...\n",
      "Total number of loop iterations is 5...\n",
      "End of the program...\n"
     ]
    }
   ],
   "source": [
    "kount = 0\n",
    "for i in range(1, 10, 2):\n",
    "    print (f\"Current value in i = {i}...\")\n",
    "    kount += 1\n",
    "else:\n",
    "    print (\"ELSE: Executing the else block...\")\n",
    "    print (\"ELSE: Smooth execution...\")\n",
    "print (f\"Total number of loop iterations is {kount}...\")\n",
    "print (\"End of the program...\")"
   ]
  },
  {
   "cell_type": "code",
   "execution_count": 84,
   "id": "318f2f14",
   "metadata": {},
   "outputs": [
    {
     "name": "stdout",
     "output_type": "stream",
     "text": [
      "Current value in i = 1...\n",
      "Current value in i = 2...\n",
      "Current value in i = 3...\n",
      "Current value in i = 4...\n",
      "Current value in i = 5...\n",
      "Current value in i = 6...\n",
      "Coming out from the loop due to Break statement for i = 6...\n",
      "Total number of loop iterations is 5...\n",
      "End of the program...\n"
     ]
    }
   ],
   "source": [
    "kount = 0\n",
    "for i in range(1, 10):\n",
    "    print (f\"Current value in i = {i}...\")\n",
    "    if (i == 6):\n",
    "        print (f\"Coming out from the loop due to Break statement for i = {i}...\")\n",
    "        break\n",
    "    kount += 1\n",
    "else:\n",
    "    print (\"ELSE: Executing the else block...\")\n",
    "    print (\"ELSE: Smooth execution...\")\n",
    "print (f\"Total number of loop iterations is {kount}...\")\n",
    "print (\"End of the program...\")"
   ]
  },
  {
   "cell_type": "code",
   "execution_count": 86,
   "id": "596d4610",
   "metadata": {},
   "outputs": [
    {
     "name": "stdout",
     "output_type": "stream",
     "text": [
      "Current value in i = 1...\n",
      "Current value in i = 2...\n",
      "Current value in i = 3...\n",
      "Executing Continue statement for i = 4...\n",
      "Current value in i = 5...\n",
      "Current value in i = 6...\n",
      "Executing Continue statement for i = 7...\n",
      "Current value in i = 8...\n",
      "Current value in i = 9...\n",
      "ELSE: Executing the else block...\n",
      "ELSE: Smooth execution...\n",
      "Total number of loop iterations is 7...\n",
      "End of the program...\n"
     ]
    }
   ],
   "source": [
    "kount = 0\n",
    "for i in range(1, 10):\n",
    "    if (i == 4 or i == 7):\n",
    "        print (f\"Executing Continue statement for i = {i}...\")\n",
    "        continue\n",
    "    print (f\"Current value in i = {i}...\")\n",
    "    kount += 1\n",
    "else:\n",
    "    print (\"ELSE: Executing the else block...\")\n",
    "    print (\"ELSE: Smooth execution...\")\n",
    "print (f\"Total number of loop iterations is {kount}...\")\n",
    "print (\"End of the program...\")"
   ]
  },
  {
   "cell_type": "code",
   "execution_count": 87,
   "id": "19435099",
   "metadata": {},
   "outputs": [
    {
     "name": "stdout",
     "output_type": "stream",
     "text": [
      "Current value in i = 1...\n",
      "Current value in i = 2...\n",
      "Current value in i = 3...\n",
      "Executing Continue statement for i = 4...\n",
      "Current value in i = 5...\n",
      "Current value in i = 6...\n",
      "Executing Continue statement for i = 7...\n",
      "Current value in i = 8...\n",
      "Current value in i = 9...\n",
      "ELSE: Executing the else block...\n",
      "ELSE: Smooth execution...\n",
      "Total number of loop iterations is 7...\n",
      "End of the program...\n"
     ]
    }
   ],
   "source": [
    "kount = 0\n",
    "for i in range(1, 10):\n",
    "    if (i == 4 or i == 7):\n",
    "        print (f\"Executing Continue statement for i = {i}...\")\n",
    "        continue\n",
    "    else:\n",
    "        pass    # statement place holder\n",
    "    print (f\"Current value in i = {i}...\")\n",
    "    kount += 1\n",
    "else:\n",
    "    print (\"ELSE: Executing the else block...\")\n",
    "    print (\"ELSE: Smooth execution...\")\n",
    "print (f\"Total number of loop iterations is {kount}...\")\n",
    "print (\"End of the program...\")"
   ]
  },
  {
   "cell_type": "code",
   "execution_count": 88,
   "id": "5b04b70e-22b8-429a-9152-ff991bd7bfe3",
   "metadata": {},
   "outputs": [
    {
     "name": "stdout",
     "output_type": "stream",
     "text": [
      "Looping with i = 1...\n",
      "Looping with i = 2...\n",
      "Looping with i = 3...\n",
      "Looping with i = 4...\n",
      "Looping with i = 5...\n",
      "Looping with i = 6...\n",
      "Looping with i = 7...\n",
      "Looping with i = 8...\n",
      "Looping with i = 9...\n",
      "Looping with i = 10...\n",
      "ELSE: Executing the else block...\n",
      "ELSE: Smooth execution...\n",
      "Total number of loop iterations is 7...\n",
      "End of the program...\n"
     ]
    }
   ],
   "source": [
    "i = 1\n",
    "knount = 0\n",
    "while (i <= 10):\n",
    "    print (f\"Looping with i = {i}...\")\n",
    "    knount += 1\n",
    "    i += 1\n",
    "else:\n",
    "    print (\"ELSE: Executing the else block...\")\n",
    "    print (\"ELSE: Smooth execution...\")\n",
    "print (f\"Total number of loop iterations is {kount}...\")\n",
    "print (\"End of the program...\")"
   ]
  },
  {
   "cell_type": "code",
   "execution_count": 90,
   "id": "15514dfc-bca0-4b03-a1ba-e2d795d98a44",
   "metadata": {},
   "outputs": [
    {
     "name": "stdout",
     "output_type": "stream",
     "text": [
      "Visit Doctor...\n",
      "Good Morning...\n",
      "Day number = 1 and medicine number = 1...\n",
      "Day number = 1 and medicine number = 2...\n",
      "Day number = 1 and medicine number = 3...\n",
      "Good Night...\n",
      "--------------------------------------------------------\n",
      "Good Morning...\n",
      "Day number = 2 and medicine number = 1...\n",
      "Day number = 2 and medicine number = 2...\n",
      "Day number = 2 and medicine number = 3...\n",
      "Good Night...\n",
      "--------------------------------------------------------\n",
      "Good Morning...\n",
      "Day number = 3 and medicine number = 1...\n",
      "Day number = 3 and medicine number = 2...\n",
      "Day number = 3 and medicine number = 3...\n",
      "Good Night...\n",
      "--------------------------------------------------------\n",
      "Good Morning...\n",
      "Day number = 4 and medicine number = 1...\n",
      "Day number = 4 and medicine number = 2...\n",
      "Day number = 4 and medicine number = 3...\n",
      "Good Night...\n",
      "--------------------------------------------------------\n",
      "Good Morning...\n",
      "Day number = 5 and medicine number = 1...\n",
      "Day number = 5 and medicine number = 2...\n",
      "Day number = 5 and medicine number = 3...\n",
      "Good Night...\n",
      "--------------------------------------------------------\n",
      "Thanks to Doctor...\n"
     ]
    }
   ],
   "source": [
    "# nested looping\n",
    "print(\"Visit Doctor...\")   # 1 time\n",
    "medicount = 0\n",
    "for day in range(1, 6):\n",
    "    print (\"Good Morning...\")   # 5 times\n",
    "    for medi in range(1, 4):\n",
    "        print(f\"Day number = {day} and medicine number = {medi}...\")   # 15 times\n",
    "        medicount += 1   # 15 times\n",
    "    print (\"Good Night...\")   # 5 times\n",
    "    print (\"--------------------------------------------------------\")   # 5 times\n",
    "print(\"Thanks to Doctor...\")   # 1 time"
   ]
  },
  {
   "cell_type": "markdown",
   "id": "93522e61-9f50-48a8-a809-1ae129d1b8fe",
   "metadata": {},
   "source": [
    "## **Class Assignment**"
   ]
  },
  {
   "cell_type": "code",
   "execution_count": 91,
   "id": "fb243ca1",
   "metadata": {},
   "outputs": [
    {
     "name": "stdout",
     "output_type": "stream",
     "text": [
      "Visit Doctor...\n",
      "Good Morning...\n",
      "Day number = 1 and medicine number = 1...\n",
      "Day number = 1 and medicine number = 2...\n",
      "Day number = 1 and medicine number = 3...\n",
      "Good Night...\n",
      "--------------------------------------------------------\n",
      "Good Morning...\n",
      "Day number = 2 and medicine number = 1...\n",
      "Day number = 2 and medicine number = 2...\n",
      "Day number = 2 and medicine number = 3...\n",
      "Good Night...\n",
      "--------------------------------------------------------\n",
      "Good Morning...\n",
      "Day number = 3 and medicine number = 1...\n",
      "Day number = 3 and medicine number = 2...\n",
      "Day number = 3 and medicine number = 3...\n",
      "Good Night...\n",
      "--------------------------------------------------------\n",
      "Good Morning...\n",
      "Day number = 4 and medicine number = 1...\n",
      "Day number = 4 and medicine number = 2...\n",
      "Day number = 4 and medicine number = 3...\n",
      "Good Night...\n",
      "--------------------------------------------------------\n",
      "Good Morning...\n",
      "Day number = 5 and medicine number = 1...\n",
      "Day number = 5 and medicine number = 2...\n",
      "Day number = 5 and medicine number = 3...\n",
      "Good Night...\n",
      "--------------------------------------------------------\n",
      "Thanks to Doctor...\n"
     ]
    }
   ],
   "source": [
    "# nested looping with while blocks\n",
    "print(\"Visit Doctor...\")   # 1 time\n",
    "medicount = 0\n",
    "day = 1\n",
    "while (day <= 5):\n",
    "    print (\"Good Morning...\")   # 5 times\n",
    "    medi = 1\n",
    "    while (medi <= 3):\n",
    "        print(f\"Day number = {day} and medicine number = {medi}...\")   # 15 times\n",
    "        medicount += 1   # 15 times\n",
    "        medi += 1\n",
    "    print (\"Good Night...\")   # 5 times\n",
    "    print (\"--------------------------------------------------------\")   # 5 times\n",
    "    day += 1\n",
    "print(\"Thanks to Doctor...\")   # 1 time"
   ]
  },
  {
   "cell_type": "code",
   "execution_count": null,
   "id": "bb9c4f75-2fda-4588-8f06-2e5c5a9b4818",
   "metadata": {},
   "outputs": [],
   "source": [
    "Pattern - 1\n",
    "-----------\n",
    "n = 6 (user i/p)      i    .    *\n",
    "                    ---------------\n",
    ".....*                1    5    1       (n, i)\n",
    "....***               2    4    3  . => (n - i)\n",
    "...*****              3    3    5\n",
    "..*******             4    2    7  * => (2 * i - 1)\n",
    ".*********            5    1    9\n",
    "***********           6    0   11\n",
    "                    ---------------  Tracing Table"
   ]
  },
  {
   "cell_type": "code",
   "execution_count": 104,
   "id": "1f34b2fe-24ac-463d-a193-87d45a6c3690",
   "metadata": {},
   "outputs": [
    {
     "name": "stdin",
     "output_type": "stream",
     "text": [
      "Please enter the number of layers for the pattern: 6\n"
     ]
    },
    {
     "name": "stdout",
     "output_type": "stream",
     "text": [
      ".....*\n",
      "....***\n",
      "...*****\n",
      "..*******\n",
      ".*********\n",
      "***********\n",
      "End of the pattern...\n"
     ]
    }
   ],
   "source": [
    "n = int(input(\"Please enter the number of layers for the pattern:\"))\n",
    "for i in range(1, n + 1):\n",
    "    print (\".\" * (n - i) + \"*\" * (2 * i - 1))\n",
    "print(\"End of the pattern...\")"
   ]
  },
  {
   "cell_type": "markdown",
   "id": "eaa7a2a2-cd82-4393-8319-bdb36414569f",
   "metadata": {},
   "source": [
    "## **Class Assignment**"
   ]
  },
  {
   "cell_type": "code",
   "execution_count": null,
   "id": "2226f214",
   "metadata": {},
   "outputs": [],
   "source": [
    "Pattern - 2\n",
    "-----------\n",
    "n = 6 (user i/p)      i    .    *\n",
    "                    ---------------\n",
    "***********           1    0   11       (n, i)\n",
    ".*********            2    1    9  . => (i - 1)\n",
    "..*******             3    2    7\n",
    "...*****              4    3    5  * => (2 * (n - i) + 1)\n",
    "....***               5    4    3\n",
    ".....*                6    5    1\n",
    "                    ---------------  Tracing Table   "
   ]
  },
  {
   "cell_type": "code",
   "execution_count": 105,
   "id": "5b0f6260",
   "metadata": {},
   "outputs": [
    {
     "name": "stdin",
     "output_type": "stream",
     "text": [
      "Please enter the number of layers for the pattern: 6\n"
     ]
    },
    {
     "name": "stdout",
     "output_type": "stream",
     "text": [
      "***********\n",
      ".*********\n",
      "..*******\n",
      "...*****\n",
      "....***\n",
      ".....*\n",
      "End of the pattern...\n"
     ]
    }
   ],
   "source": [
    "n = int(input(\"Please enter the number of layers for the pattern:\"))\n",
    "for i in range(1, n + 1):\n",
    "    print (\".\" * (i - 1) + \"*\" * (2 * (n - i) + 1))\n",
    "print(\"End of the pattern...\")"
   ]
  },
  {
   "cell_type": "code",
   "execution_count": null,
   "id": "f03885a6-4044-4a0a-a411-55254d276eb3",
   "metadata": {},
   "outputs": [],
   "source": [
    "Pattern - 3\n",
    "-----------\n",
    "n = 11 (user ODD i/p) i    .    *    m = (n + 1) // 2 = 6\n",
    "                    ---------------\n",
    ".....*                1    5    1       (n, m, i)\n",
    "....***               2    4    3  . => (m - i)\n",
    "...*****              3    3    5\n",
    "..*******             4    2    7  * => (2 * i - 1)\n",
    ".*********            5    1    9\n",
    "***********         __6____0___11__\n",
    ".*********            7    1    9\n",
    "..*******             8    2    7  . => (i - m)\n",
    "...*****              9    3    5\n",
    "....***              10    4    3  * => (2 * (n - i) + 1)\n",
    ".....*               11    5    1\n",
    "                    ---------------  Tracing Table"
   ]
  },
  {
   "cell_type": "code",
   "execution_count": 106,
   "id": "4bcd62b7-0ad0-471f-a979-4ecb480c3de0",
   "metadata": {},
   "outputs": [
    {
     "name": "stdin",
     "output_type": "stream",
     "text": [
      "Please enter the ODD number for layers of the pattern: 11\n"
     ]
    },
    {
     "name": "stdout",
     "output_type": "stream",
     "text": [
      ".....*\n",
      "....***\n",
      "...*****\n",
      "..*******\n",
      ".*********\n",
      "***********\n",
      ".*********\n",
      "..*******\n",
      "...*****\n",
      "....***\n",
      ".....*\n",
      "End of the pattern...\n"
     ]
    }
   ],
   "source": [
    "while (True):\n",
    "    n = int(input(\"Please enter the ODD number for layers of the pattern:\"))\n",
    "    if (n % 2 == 1): break\n",
    "m = (n + 1) // 2\n",
    "for i in range(1, n + 1):\n",
    "    if (i <= m):\n",
    "        print (\".\" * (m - i) + \"*\" * (2 * i - 1))\n",
    "    else:\n",
    "        print (\".\" * (i - m) + \"*\" * (2 * (n - i) + 1))\n",
    "print(\"End of the pattern...\")"
   ]
  },
  {
   "cell_type": "markdown",
   "id": "71f35b55-1c85-4167-a847-ce3ae8fefd19",
   "metadata": {},
   "source": [
    "## **Class Assignment**"
   ]
  },
  {
   "cell_type": "code",
   "execution_count": null,
   "id": "701b8c29",
   "metadata": {},
   "outputs": [],
   "source": [
    "Pattern - 4\n",
    "-----------\n",
    "n = 11 (user ODD i/p) i    .    *    m = (n + 1) // 2 = 6\n",
    "                    ---------------\n",
    "***********           1    0   11       (n, m, i)\n",
    ".*********            2    1    9  . => (i - 1)\n",
    "..*******             3    2    7\n",
    "...*****              4    3    5  * => (2 * (m - i) + 1)\n",
    "....***               5    4    3\n",
    ".....*              __6____5____1__\n",
    "....***               7    4    3\n",
    "...*****              8    3    5  . => (n - i)\n",
    "..*******             9    2    7\n",
    ".*********           10    1    9  * => (2 * (i - m) + 1)\n",
    "***********          11    0   11\n",
    "                    ---------------  Tracing Table"
   ]
  },
  {
   "cell_type": "code",
   "execution_count": 110,
   "id": "8e928239",
   "metadata": {},
   "outputs": [
    {
     "name": "stdin",
     "output_type": "stream",
     "text": [
      "Please enter the ODD number of layers for the pattern: 10\n",
      "Please enter the ODD number of layers for the pattern: 8\n",
      "Please enter the ODD number of layers for the pattern: 12\n",
      "Please enter the ODD number of layers for the pattern: 11\n"
     ]
    },
    {
     "name": "stdout",
     "output_type": "stream",
     "text": [
      "***********\n",
      ".*********\n",
      "..*******\n",
      "...*****\n",
      "....***\n",
      ".....*\n",
      "....***\n",
      "...*****\n",
      "..*******\n",
      ".*********\n",
      "***********\n",
      "End of the pattern...\n"
     ]
    }
   ],
   "source": [
    "while (True):\n",
    "    n = int(input(\"Please enter the ODD number of layers for the pattern:\"))\n",
    "    if (n % 2 == 1): break\n",
    "m = (n + 1) // 2\n",
    "for i in range(1, n + 1):\n",
    "    if (i <= m):\n",
    "        print (\".\" * (i - 1) + \"*\" * (2 * (m - i) + 1))\n",
    "    else:\n",
    "        print (\".\" * (n - i) + \"*\" * (2 * (i - m) + 1))\n",
    "print(\"End of the pattern...\")"
   ]
  },
  {
   "cell_type": "markdown",
   "id": "2fc22967-fee6-4383-ada8-7361917b4b61",
   "metadata": {},
   "source": [
    "## **Python Inbuilt Collections**"
   ]
  },
  {
   "cell_type": "code",
   "execution_count": 111,
   "id": "132e0004-f848-402a-a27d-7f5efdd5907c",
   "metadata": {},
   "outputs": [
    {
     "name": "stdout",
     "output_type": "stream",
     "text": [
      "[100, 2.45, True, 'Food', 201] 5 <class 'list'> 2483868821056\n",
      "(100, 2.45, True, 'Food', 201) 5 <class 'tuple'> 2483859196320\n",
      "{'name': 'Bidisha', 'location': 'Noida', 'job': 'Developer', 'company': 'Accenture'} 4 <class 'dict'> 2483868977344\n",
      "{'Delhi', True, 2.45, 'Food', 100, 201} 6 <class 'set'> 2483870250176\n",
      "frozenset({True, 2.45, 100, 201, 'Food', 'Delhi'}) 6 <class 'frozenset'> 2483870421888\n"
     ]
    }
   ],
   "source": [
    "# different inbuilt collections\n",
    "list1 = [100, 2.45, True, \"Food\", 201]   # mutable\n",
    "print (list1, len(list1), type(list1), id(list1))\n",
    "tuple1 = (100, 2.45, True, \"Food\", 201)   # immutable, read only\n",
    "print (tuple1, len(tuple1), type(tuple1), id(tuple1))\n",
    "dict1 = {'name':'Bidisha', 'location':'Noida', 'job':'Developer', 'company':'Accenture'} # mutable\n",
    "print (dict1, len(dict1), type(dict1), id(dict1))\n",
    "set1 = {\"Delhi\", 100, 2.45, True, \"Food\", 201, True, \"Food\", 201}\n",
    "print (set1, len(set1), type(set1), id(set1))\n",
    "fset1 = frozenset([\"Delhi\", 100, 2.45, True, \"Food\", 201, True, \"Food\", 201]) # immutable, read only\n",
    "print (fset1, len(fset1), type(fset1), id(fset1))"
   ]
  },
  {
   "cell_type": "markdown",
   "id": "a2886375-aed1-4123-b246-0806e5392566",
   "metadata": {},
   "source": [
    "## **Section-3 - User Defined Function (UDF)**"
   ]
  },
  {
   "cell_type": "code",
   "execution_count": 113,
   "id": "a04a629d-cdd7-47a1-9464-97bec4c1c7ce",
   "metadata": {},
   "outputs": [
    {
     "name": "stdout",
     "output_type": "stream",
     "text": [
      "Hello Hello Hello \n",
      "Hello Hello Hello \n",
      "Hello Hello Hello \n",
      "Hello Hello Hello \n",
      "<class 'function'>\n"
     ]
    }
   ],
   "source": [
    "def funct1():\n",
    "    print (\"Hello \" *  3)\n",
    "\n",
    "funct1()\n",
    "funct1()\n",
    "funct1()\n",
    "funct1()\n",
    "print (type(funct1))"
   ]
  },
  {
   "cell_type": "code",
   "execution_count": 114,
   "id": "fd23d6c7-eacd-4785-9cdf-615e09dced04",
   "metadata": {},
   "outputs": [
    {
     "name": "stdout",
     "output_type": "stream",
     "text": [
      "Good Bye Good Bye Good Bye Good Bye \n",
      "Hello !!! Hello !!! Hello !!! \n",
      "Welcome Welcome \n",
      "Hi! Hi! Hi! \n"
     ]
    }
   ],
   "source": [
    "def funct2(msg, times):\n",
    "    print (msg * times)\n",
    "\n",
    "funct2(\"Good Bye \", 4)\n",
    "funct2(\"Hello !!! \", 3)\n",
    "funct2(\"Welcome \", 2)\n",
    "funct2(\"Hi! \", 3)"
   ]
  },
  {
   "cell_type": "code",
   "execution_count": 117,
   "id": "c26ed8fc-c076-4248-a8af-91b9bb73d738",
   "metadata": {},
   "outputs": [
    {
     "name": "stdout",
     "output_type": "stream",
     "text": [
      "Welcome Welcome Welcome Welcome Welcome \n",
      "Hello Hello Hello Hello Hello Hello Hello Hello Hello Hello \n",
      "Hi!!! Hi!!! Hi!!! Hi!!! Hi!!! \n"
     ]
    }
   ],
   "source": [
    "def funct3(msg, times):\n",
    "    return msg * times\n",
    "print (funct3(\"Welcome \", 5))\n",
    "print (funct3(\"Hello \", 10))\n",
    "result = funct3(\"Hi!!! \", 5)\n",
    "print (result)"
   ]
  },
  {
   "cell_type": "code",
   "execution_count": 127,
   "id": "e6b8be49-1bf6-4966-8a52-27531b94b336",
   "metadata": {},
   "outputs": [
    {
     "name": "stdout",
     "output_type": "stream",
     "text": [
      "par1 = 100, par2 = 200, par3 = 300...\n",
      "par1 = 100, par2 = 200, par3 = 333...\n",
      "par1 = 100, par2 = 222, par3 = 333...\n",
      "par1 = 111, par2 = 222, par3 = 333...\n",
      "par1 = 100, par2 = 222, par3 = 300...\n",
      "par1 = 100, par2 = 222, par3 = 300...\n"
     ]
    }
   ],
   "source": [
    "# function with default arguments\n",
    "def funct4(par1 = 111, par2 = 222, par3 = 333):  # positional parameters\n",
    "    print(f\"par1 = {par1}, par2 = {par2}, par3 = {par3}...\")\n",
    "\n",
    "funct4(100, 200, 300)  # positional arguments\n",
    "funct4(100, 200)\n",
    "funct4(100)\n",
    "funct4()\n",
    "funct4(par1 = 100, par3 = 300)\n",
    "funct4(par3 = 300, par1 = 100)"
   ]
  },
  {
   "cell_type": "code",
   "execution_count": 128,
   "id": "536b45b0-6f68-470d-8c51-ab74f49ebf73",
   "metadata": {},
   "outputs": [
    {
     "name": "stdout",
     "output_type": "stream",
     "text": [
      "500\n",
      "1000\n",
      "1600\n"
     ]
    }
   ],
   "source": [
    "def funct5(par1, par2 = None):\n",
    "    if (par2 is None):\n",
    "        return 2 * par1\n",
    "    else:\n",
    "        return par1 + par2\n",
    "print(funct5(100, 400))\n",
    "print(funct5(900, 100))\n",
    "print(funct5(800))"
   ]
  },
  {
   "cell_type": "code",
   "execution_count": 132,
   "id": "f45e9246-35b5-4394-874f-493d19dfbc03",
   "metadata": {},
   "outputs": [
    {
     "name": "stdout",
     "output_type": "stream",
     "text": [
      "So total = 140, difference = 60, product = 4000 and quotient = 2.5...\n",
      "(160, 40, 6000, 1.6666666666666667) 4 <class 'tuple'> 2483872858176\n",
      "So total = 160, difference = 40, product = 6000 and 1.6666666666666667\n"
     ]
    }
   ],
   "source": [
    "# function returning multiple arguments\n",
    "def funct6(num1, num2):\n",
    "    total = num1 + num2\n",
    "    difference = num1 - num2\n",
    "    product = num1 * num2\n",
    "    quotient = num1 / num2\n",
    "    return total, difference, product, quotient\n",
    "\n",
    "tt, dd, pp, qq = funct6(100, 40)\n",
    "print(f\"So total = {tt}, difference = {dd}, product = {pp} and quotient = {qq}...\")\n",
    "result = funct6(100, 60)\n",
    "print (result, len(result), type(result), id(result))\n",
    "print(f\"So total = {result[0]}, difference = {result[1]}, product = {result[2]} and {result[3]}\")"
   ]
  },
  {
   "cell_type": "code",
   "execution_count": 138,
   "id": "03a042b2-8850-49aa-89f3-2cf51f43a741",
   "metadata": {},
   "outputs": [
    {
     "name": "stdout",
     "output_type": "stream",
     "text": [
      "256 140737211654920 256 140737211654920\n",
      "257 2483869872848 257 2483869873712\n"
     ]
    }
   ],
   "source": [
    "var1 = 256\n",
    "var2 = 256\n",
    "print (var1, id(var1), var2, id(var2))\n",
    "var1 = 257\n",
    "var2 = 257\n",
    "print (var1, id(var1), var2, id(var2))"
   ]
  },
  {
   "cell_type": "code",
   "execution_count": 141,
   "id": "f0164c7e-59eb-4443-9c20-4cd71082acdd",
   "metadata": {},
   "outputs": [
    {
     "name": "stdout",
     "output_type": "stream",
     "text": [
      "-5 140737211646568 -5 140737211646568\n",
      "-6 2483869872464 -6 2483869868560\n"
     ]
    }
   ],
   "source": [
    "var1 = -5\n",
    "var2 = -5\n",
    "print (var1, id(var1), var2, id(var2))\n",
    "var1 = -6\n",
    "var2 = -6\n",
    "print (var1, id(var1), var2, id(var2))"
   ]
  },
  {
   "cell_type": "code",
   "execution_count": null,
   "id": "39d0ed85-7c71-4ac5-b38d-3bb50162dde5",
   "metadata": {},
   "outputs": [],
   "source": [
    "32 bit =>  2^32 - 1 = 2^2 * 2^10 * 2^10 8 2^10 = 4 * 1K * 1K * 1K = 4G"
   ]
  },
  {
   "cell_type": "code",
   "execution_count": 142,
   "id": "ed8c1390-6da2-429a-893f-705dda932dcf",
   "metadata": {},
   "outputs": [
    {
     "name": "stdout",
     "output_type": "stream",
     "text": [
      "('Amitava', 'Male') 2 <class 'tuple'> 2483870776512\n",
      "('Amitava', 'Male', 37, True) 4 <class 'tuple'> 2483873025536\n",
      "('Amitava', 'Male', 37, True, 'Developer') 5 <class 'tuple'> 2483873025856\n"
     ]
    }
   ],
   "source": [
    "# function with variable number of arguments\n",
    "def funct7(*arg):   # forcefully *arg is of tuple type\n",
    "    print (arg, len(arg), type(arg), id(arg))\n",
    "    \n",
    "funct7(\"Amitava\", \"Male\")\n",
    "funct7(\"Amitava\", \"Male\", 37, True)\n",
    "funct7(\"Amitava\", \"Male\", 37, True, \"Developer\")"
   ]
  },
  {
   "cell_type": "code",
   "execution_count": 146,
   "id": "f929dad6-327d-4dfa-9f60-6d8a7b20f8da",
   "metadata": {},
   "outputs": [
    {
     "name": "stdout",
     "output_type": "stream",
     "text": [
      "{'name': 'Amitava', 'gender': 'Male'} 2 <class 'dict'> 2483827931264\n",
      "{'name': 'Amitava', 'gender': 'Male', 'age': 37, 'married': True} 4 <class 'dict'> 2483871006784\n",
      "{'name': 'Amitava', 'gender': 'Male', 'age': 37, 'married': True, 'job': 'Developer'} 5 <class 'dict'> 2483827931264\n"
     ]
    }
   ],
   "source": [
    "def funct8(**kwarg):   # forcefully **kwarg is a dictionary type key-word argument\n",
    "    print (kwarg, len(kwarg), type(kwarg), id(kwarg))\n",
    "\n",
    "funct8(name=\"Amitava\", gender=\"Male\")\n",
    "funct8(name=\"Amitava\", gender=\"Male\", age=37, married=True)\n",
    "funct8(name=\"Amitava\", gender=\"Male\", age=37, married=True, job=\"Developer\")"
   ]
  },
  {
   "cell_type": "code",
   "execution_count": 147,
   "id": "d491f38f-541c-4815-80be-734fc9493c47",
   "metadata": {},
   "outputs": [
    {
     "name": "stdout",
     "output_type": "stream",
     "text": [
      "('Amitava', 'Male') 2 <class 'tuple'> 2483868305216\n",
      "{'age': 37, 'married': True, 'job': 'Developer'} 3 <class 'dict'> 2483871330816\n",
      "\n",
      "('Amitava', 'Male') 2 <class 'tuple'> 2483868305216\n",
      "{} 0 <class 'dict'> 2483871330816\n",
      "\n",
      "() 0 <class 'tuple'> 140737211704792\n",
      "{'age': 37, 'married': True, 'job': 'Developer'} 3 <class 'dict'> 2483871330816\n"
     ]
    }
   ],
   "source": [
    "def funct9(*arg, **kwarg):\n",
    "    print (arg, len(arg), type(arg), id(arg))\n",
    "    print (kwarg, len(kwarg), type(kwarg), id(kwarg))\n",
    "    \n",
    "funct9(\"Amitava\", \"Male\", age=37, married=True, job=\"Developer\")\n",
    "print()\n",
    "funct9(\"Amitava\", \"Male\")\n",
    "print()\n",
    "funct9(age=37, married=True, job=\"Developer\")"
   ]
  },
  {
   "cell_type": "code",
   "execution_count": 152,
   "id": "114d2fa1-285f-4dc5-a03e-4ae628eedde4",
   "metadata": {},
   "outputs": [
    {
     "name": "stdout",
     "output_type": "stream",
     "text": [
      "600\n",
      "1500\n",
      "1000\n"
     ]
    }
   ],
   "source": [
    "def funct10(*arg):\n",
    "    total = 0\n",
    "    for item in arg:\n",
    "        total += int(item)\n",
    "    return total\n",
    "\n",
    "print (funct10(100, 200, 300))\n",
    "print (funct10(100, 200, 300, 400, 500))\n",
    "print (funct10(100, 200, 300, \"400\"))"
   ]
  },
  {
   "cell_type": "code",
   "execution_count": 160,
   "id": "b0f1403f-7ab4-463d-a087-25eef3e3cec4",
   "metadata": {},
   "outputs": [
    {
     "name": "stdout",
     "output_type": "stream",
     "text": [
      "Looping for i = 2...\n",
      "Looping for i = 3...\n",
      "Looping for i = 4...\n",
      "5 ! = 120\n",
      "Looping for i = 2...\n",
      "Looping for i = 3...\n",
      "Looping for i = 4...\n",
      "Looping for i = 5...\n",
      "6 ! = 720\n",
      "Looping for i = 2...\n",
      "Looping for i = 3...\n",
      "Looping for i = 4...\n",
      "Looping for i = 5...\n",
      "Looping for i = 6...\n",
      "7 ! = 5040\n"
     ]
    }
   ],
   "source": [
    "def factorial_nr(num):\n",
    "    if (num == 0 or num == 1): return 1\n",
    "    fact = num\n",
    "    for i in range(2, num):\n",
    "        fact *= i\n",
    "        print (f\"Looping for i = {i}...\")\n",
    "    return fact\n",
    "\n",
    "num = 5\n",
    "print (num, \"! =\", factorial_nr(num))\n",
    "num = 6\n",
    "print (num, \"! =\", factorial_nr(num))\n",
    "num = 7\n",
    "print (num, \"! =\", factorial_nr(num))"
   ]
  },
  {
   "cell_type": "code",
   "execution_count": 163,
   "id": "34118791-3281-4ae3-977c-18aeaa03b1ef",
   "metadata": {},
   "outputs": [
    {
     "name": "stdout",
     "output_type": "stream",
     "text": [
      "5 120\n",
      "6 720\n",
      "7 5040\n"
     ]
    }
   ],
   "source": [
    "def factorial_r(num):\n",
    "    if (num == 0 or num == 1): return 1  # base case, some input values outputs are pre-known to us where the recursion will terminate\n",
    "    return num * factorial_r(num - 1)    # recursive case, the function will call itself either directly or indirectly\n",
    "\n",
    "print (5, factorial_r(5))\n",
    "print (6, factorial_r(6))\n",
    "print (7, factorial_r(7))"
   ]
  },
  {
   "cell_type": "code",
   "execution_count": null,
   "id": "54d833d3-fe67-49c7-8b48-2e0cce67533a",
   "metadata": {},
   "outputs": [],
   "source": [
    "5! = 5 * 4!\n",
    "         4 * 3!\n",
    "             3 * 2!\n",
    "                 2 * 1!\n",
    "                     1\n",
    "                 2\n",
    "             6\n",
    "         24\n",
    "     120"
   ]
  },
  {
   "cell_type": "markdown",
   "id": "f779cc8a-c0dd-448c-9d41-a44e758d3cba",
   "metadata": {},
   "source": [
    "## **Lambda Function**\n",
    "\n",
    "> In Python programming, a lambda function is a small anonymous function that can have any number of arguments, but can only have one expression. The expression is evaluated and returned as the function result. Lambda functions are commonly used in combination with higher-order functions such as map(), filter(), and reduce().\n",
    "\n",
    "Some of the properties of lambda functions in Python programming include:\n",
    "* **Anonymous:** Lambda functions are anonymous, meaning they do not have a name like regular functions. They are defined using the keyword \"lambda\" followed by the arguments and the expression.\n",
    "* **Single Expression:** A lambda function can only contain a single expression that is evaluated and returned as the function result. This means that it cannot contain multiple statements or control flow structures.\n",
    "* **Concise:** Lambda functions are concise and can be defined in a single line of code. This makes them useful for defining simple functions on-the-fly.\n",
    "* **Immutable:** Lambda functions are immutable, meaning they cannot be modified once defined. This means that you cannot change the behavior of a lambda function after it has been defined.\n",
    "* **Higher-order Functions:** Lambda functions are often used in combination with higher-order functions such as map(), filter(), and reduce(). These functions take other functions as arguments and return new functions as results.\n",
    "* **Memory-efficient:** Lambda functions are memory-efficient since they are defined on-the-fly and do not require a separate function definition. This can be useful when working with large data sets or when memory usage is a concern.#### Lambda Function\n",
    "> In Python programming, a lambda function is a small anonymous function that can have any number of arguments, but can only have one expression. The expression is evaluated and returned as the function result. Lambda functions are commonly used in combination with higher-order functions such as map(), filter(), and reduce()."
   ]
  },
  {
   "cell_type": "code",
   "execution_count": 165,
   "id": "0541cd70-2d3f-4db6-8b88-c873fbf19a5c",
   "metadata": {},
   "outputs": [
    {
     "name": "stdout",
     "output_type": "stream",
     "text": [
      "100 <class 'function'>\n",
      "400 <class 'function'>\n"
     ]
    }
   ],
   "source": [
    "my_square = lambda num: num * num\n",
    "print (my_square(10), type(my_square))\n",
    "print (my_square(20), type(my_square))"
   ]
  },
  {
   "cell_type": "code",
   "execution_count": 166,
   "id": "40965a4e-808b-4a14-8154-d6e3761b85fd",
   "metadata": {},
   "outputs": [
    {
     "name": "stdout",
     "output_type": "stream",
     "text": [
      "300\n",
      "950\n"
     ]
    }
   ],
   "source": [
    "my_addition = lambda num1, num2: num1 + num2\n",
    "print (my_addition(100, 200))\n",
    "print (my_addition(900, 50))"
   ]
  },
  {
   "cell_type": "code",
   "execution_count": 168,
   "id": "3915feef-24be-43e7-95b9-0d7f756812f4",
   "metadata": {},
   "outputs": [
    {
     "name": "stdout",
     "output_type": "stream",
     "text": [
      "So factorial of 5 is 120...\n",
      "So factorial of 7 is 5040...\n"
     ]
    }
   ],
   "source": [
    "# recursive lambda function\n",
    "my_factorial = lambda num: 1 if (num == 0 or num == 1) else num * my_factorial(num - 1)\n",
    "\n",
    "x = 5\n",
    "print (f\"So factorial of {x} is {my_factorial(x)}...\")\n",
    "x = 7\n",
    "print (f\"So factorial of {x} is {my_factorial(x)}...\")"
   ]
  },
  {
   "cell_type": "code",
   "execution_count": 172,
   "id": "e9bd2f1a-3197-4364-80a0-c611c7fe3cf0",
   "metadata": {},
   "outputs": [
    {
     "name": "stdout",
     "output_type": "stream",
     "text": [
      "30\n",
      "80\n",
      "<class 'function'> <class 'function'>\n"
     ]
    }
   ],
   "source": [
    "def funct11(num):\n",
    "    mylambdafunct = lambda x: x * num\n",
    "    return mylambdafunct\n",
    "\n",
    "result10 = funct11(10)\n",
    "result20 = funct11(20)\n",
    "print (result10(3))\n",
    "print (result20(4))\n",
    "print (type(result10), type(result20))"
   ]
  },
  {
   "cell_type": "markdown",
   "id": "aadb13ef-b5b6-4a6f-9435-527ef5e0f009",
   "metadata": {},
   "source": [
    "## **Importing Modules**"
   ]
  },
  {
   "cell_type": "code",
   "execution_count": 174,
   "id": "75783013-affd-45a9-a15a-f9f38cf75066",
   "metadata": {},
   "outputs": [],
   "source": [
    "# importing math module\n",
    "import math"
   ]
  },
  {
   "cell_type": "code",
   "execution_count": 187,
   "id": "d06f8ded-de07-49b5-bc15-59dca1be3b59",
   "metadata": {},
   "outputs": [
    {
     "name": "stdout",
     "output_type": "stream",
     "text": [
      "100.0 100\n",
      "20 300\n",
      "2.302585092994046 2.302585092994046 10.0 10.0 2.0 2.0\n",
      "0.0 1.0 0.0 0.0\n"
     ]
    }
   ],
   "source": [
    "print (math.pow(10, 2), 10 ** 2)\n",
    "print (math.gcd(100, 60), math.lcm(100, 60))\n",
    "print (math.log(10), math.log(10, math.e), math.log2(1024), math.log(1024, 2), math.log10(100), math.log(100, 10))\n",
    "print (math.sin(0), math.cos(0), math.tan(0), math.sinh(0))"
   ]
  },
  {
   "cell_type": "code",
   "execution_count": 192,
   "id": "653d1293-7cc0-410c-b901-4296bc0e6229",
   "metadata": {},
   "outputs": [
    {
     "name": "stdout",
     "output_type": "stream",
     "text": [
      "28.284271247461902 28.284271247461902\n"
     ]
    }
   ],
   "source": [
    "print (math.dist((10, 20), (30, 40)), math.sqrt(math.pow((10 - 30), 2) + math.pow((20 - 40), 2)))"
   ]
  },
  {
   "cell_type": "code",
   "execution_count": 193,
   "id": "8679c538-4a92-42c7-a3f2-c78a80b0b59f",
   "metadata": {},
   "outputs": [
    {
     "name": "stdout",
     "output_type": "stream",
     "text": [
      "3628800\n"
     ]
    }
   ],
   "source": [
    "print (math.factorial(10))"
   ]
  },
  {
   "cell_type": "code",
   "execution_count": 179,
   "id": "6446624e-35dd-4324-858f-7a2808f41516",
   "metadata": {
    "scrolled": true
   },
   "outputs": [
    {
     "name": "stdout",
     "output_type": "stream",
     "text": [
      "Help on built-in module math:\n",
      "\n",
      "NAME\n",
      "    math\n",
      "\n",
      "DESCRIPTION\n",
      "    This module provides access to the mathematical functions\n",
      "    defined by the C standard.\n",
      "\n",
      "FUNCTIONS\n",
      "    acos(x, /)\n",
      "        Return the arc cosine (measured in radians) of x.\n",
      "        \n",
      "        The result is between 0 and pi.\n",
      "    \n",
      "    acosh(x, /)\n",
      "        Return the inverse hyperbolic cosine of x.\n",
      "    \n",
      "    asin(x, /)\n",
      "        Return the arc sine (measured in radians) of x.\n",
      "        \n",
      "        The result is between -pi/2 and pi/2.\n",
      "    \n",
      "    asinh(x, /)\n",
      "        Return the inverse hyperbolic sine of x.\n",
      "    \n",
      "    atan(x, /)\n",
      "        Return the arc tangent (measured in radians) of x.\n",
      "        \n",
      "        The result is between -pi/2 and pi/2.\n",
      "    \n",
      "    atan2(y, x, /)\n",
      "        Return the arc tangent (measured in radians) of y/x.\n",
      "        \n",
      "        Unlike atan(y/x), the signs of both x and y are considered.\n",
      "    \n",
      "    atanh(x, /)\n",
      "        Return the inverse hyperbolic tangent of x.\n",
      "    \n",
      "    cbrt(x, /)\n",
      "        Return the cube root of x.\n",
      "    \n",
      "    ceil(x, /)\n",
      "        Return the ceiling of x as an Integral.\n",
      "        \n",
      "        This is the smallest integer >= x.\n",
      "    \n",
      "    comb(n, k, /)\n",
      "        Number of ways to choose k items from n items without repetition and without order.\n",
      "        \n",
      "        Evaluates to n! / (k! * (n - k)!) when k <= n and evaluates\n",
      "        to zero when k > n.\n",
      "        \n",
      "        Also called the binomial coefficient because it is equivalent\n",
      "        to the coefficient of k-th term in polynomial expansion of the\n",
      "        expression (1 + x)**n.\n",
      "        \n",
      "        Raises TypeError if either of the arguments are not integers.\n",
      "        Raises ValueError if either of the arguments are negative.\n",
      "    \n",
      "    copysign(x, y, /)\n",
      "        Return a float with the magnitude (absolute value) of x but the sign of y.\n",
      "        \n",
      "        On platforms that support signed zeros, copysign(1.0, -0.0)\n",
      "        returns -1.0.\n",
      "    \n",
      "    cos(x, /)\n",
      "        Return the cosine of x (measured in radians).\n",
      "    \n",
      "    cosh(x, /)\n",
      "        Return the hyperbolic cosine of x.\n",
      "    \n",
      "    degrees(x, /)\n",
      "        Convert angle x from radians to degrees.\n",
      "    \n",
      "    dist(p, q, /)\n",
      "        Return the Euclidean distance between two points p and q.\n",
      "        \n",
      "        The points should be specified as sequences (or iterables) of\n",
      "        coordinates.  Both inputs must have the same dimension.\n",
      "        \n",
      "        Roughly equivalent to:\n",
      "            sqrt(sum((px - qx) ** 2.0 for px, qx in zip(p, q)))\n",
      "    \n",
      "    erf(x, /)\n",
      "        Error function at x.\n",
      "    \n",
      "    erfc(x, /)\n",
      "        Complementary error function at x.\n",
      "    \n",
      "    exp(x, /)\n",
      "        Return e raised to the power of x.\n",
      "    \n",
      "    exp2(x, /)\n",
      "        Return 2 raised to the power of x.\n",
      "    \n",
      "    expm1(x, /)\n",
      "        Return exp(x)-1.\n",
      "        \n",
      "        This function avoids the loss of precision involved in the direct evaluation of exp(x)-1 for small x.\n",
      "    \n",
      "    fabs(x, /)\n",
      "        Return the absolute value of the float x.\n",
      "    \n",
      "    factorial(n, /)\n",
      "        Find n!.\n",
      "        \n",
      "        Raise a ValueError if x is negative or non-integral.\n",
      "    \n",
      "    floor(x, /)\n",
      "        Return the floor of x as an Integral.\n",
      "        \n",
      "        This is the largest integer <= x.\n",
      "    \n",
      "    fmod(x, y, /)\n",
      "        Return fmod(x, y), according to platform C.\n",
      "        \n",
      "        x % y may differ.\n",
      "    \n",
      "    frexp(x, /)\n",
      "        Return the mantissa and exponent of x, as pair (m, e).\n",
      "        \n",
      "        m is a float and e is an int, such that x = m * 2.**e.\n",
      "        If x is 0, m and e are both 0.  Else 0.5 <= abs(m) < 1.0.\n",
      "    \n",
      "    fsum(seq, /)\n",
      "        Return an accurate floating point sum of values in the iterable seq.\n",
      "        \n",
      "        Assumes IEEE-754 floating point arithmetic.\n",
      "    \n",
      "    gamma(x, /)\n",
      "        Gamma function at x.\n",
      "    \n",
      "    gcd(*integers)\n",
      "        Greatest Common Divisor.\n",
      "    \n",
      "    hypot(...)\n",
      "        hypot(*coordinates) -> value\n",
      "        \n",
      "        Multidimensional Euclidean distance from the origin to a point.\n",
      "        \n",
      "        Roughly equivalent to:\n",
      "            sqrt(sum(x**2 for x in coordinates))\n",
      "        \n",
      "        For a two dimensional point (x, y), gives the hypotenuse\n",
      "        using the Pythagorean theorem:  sqrt(x*x + y*y).\n",
      "        \n",
      "        For example, the hypotenuse of a 3/4/5 right triangle is:\n",
      "        \n",
      "            >>> hypot(3.0, 4.0)\n",
      "            5.0\n",
      "    \n",
      "    isclose(a, b, *, rel_tol=1e-09, abs_tol=0.0)\n",
      "        Determine whether two floating point numbers are close in value.\n",
      "        \n",
      "          rel_tol\n",
      "            maximum difference for being considered \"close\", relative to the\n",
      "            magnitude of the input values\n",
      "          abs_tol\n",
      "            maximum difference for being considered \"close\", regardless of the\n",
      "            magnitude of the input values\n",
      "        \n",
      "        Return True if a is close in value to b, and False otherwise.\n",
      "        \n",
      "        For the values to be considered close, the difference between them\n",
      "        must be smaller than at least one of the tolerances.\n",
      "        \n",
      "        -inf, inf and NaN behave similarly to the IEEE 754 Standard.  That\n",
      "        is, NaN is not close to anything, even itself.  inf and -inf are\n",
      "        only close to themselves.\n",
      "    \n",
      "    isfinite(x, /)\n",
      "        Return True if x is neither an infinity nor a NaN, and False otherwise.\n",
      "    \n",
      "    isinf(x, /)\n",
      "        Return True if x is a positive or negative infinity, and False otherwise.\n",
      "    \n",
      "    isnan(x, /)\n",
      "        Return True if x is a NaN (not a number), and False otherwise.\n",
      "    \n",
      "    isqrt(n, /)\n",
      "        Return the integer part of the square root of the input.\n",
      "    \n",
      "    lcm(*integers)\n",
      "        Least Common Multiple.\n",
      "    \n",
      "    ldexp(x, i, /)\n",
      "        Return x * (2**i).\n",
      "        \n",
      "        This is essentially the inverse of frexp().\n",
      "    \n",
      "    lgamma(x, /)\n",
      "        Natural logarithm of absolute value of Gamma function at x.\n",
      "    \n",
      "    log(...)\n",
      "        log(x, [base=math.e])\n",
      "        Return the logarithm of x to the given base.\n",
      "        \n",
      "        If the base not specified, returns the natural logarithm (base e) of x.\n",
      "    \n",
      "    log10(x, /)\n",
      "        Return the base 10 logarithm of x.\n",
      "    \n",
      "    log1p(x, /)\n",
      "        Return the natural logarithm of 1+x (base e).\n",
      "        \n",
      "        The result is computed in a way which is accurate for x near zero.\n",
      "    \n",
      "    log2(x, /)\n",
      "        Return the base 2 logarithm of x.\n",
      "    \n",
      "    modf(x, /)\n",
      "        Return the fractional and integer parts of x.\n",
      "        \n",
      "        Both results carry the sign of x and are floats.\n",
      "    \n",
      "    nextafter(x, y, /)\n",
      "        Return the next floating-point value after x towards y.\n",
      "    \n",
      "    perm(n, k=None, /)\n",
      "        Number of ways to choose k items from n items without repetition and with order.\n",
      "        \n",
      "        Evaluates to n! / (n - k)! when k <= n and evaluates\n",
      "        to zero when k > n.\n",
      "        \n",
      "        If k is not specified or is None, then k defaults to n\n",
      "        and the function returns n!.\n",
      "        \n",
      "        Raises TypeError if either of the arguments are not integers.\n",
      "        Raises ValueError if either of the arguments are negative.\n",
      "    \n",
      "    pow(x, y, /)\n",
      "        Return x**y (x to the power of y).\n",
      "    \n",
      "    prod(iterable, /, *, start=1)\n",
      "        Calculate the product of all the elements in the input iterable.\n",
      "        \n",
      "        The default start value for the product is 1.\n",
      "        \n",
      "        When the iterable is empty, return the start value.  This function is\n",
      "        intended specifically for use with numeric values and may reject\n",
      "        non-numeric types.\n",
      "    \n",
      "    radians(x, /)\n",
      "        Convert angle x from degrees to radians.\n",
      "    \n",
      "    remainder(x, y, /)\n",
      "        Difference between x and the closest integer multiple of y.\n",
      "        \n",
      "        Return x - n*y where n*y is the closest integer multiple of y.\n",
      "        In the case where x is exactly halfway between two multiples of\n",
      "        y, the nearest even value of n is used. The result is always exact.\n",
      "    \n",
      "    sin(x, /)\n",
      "        Return the sine of x (measured in radians).\n",
      "    \n",
      "    sinh(x, /)\n",
      "        Return the hyperbolic sine of x.\n",
      "    \n",
      "    sqrt(x, /)\n",
      "        Return the square root of x.\n",
      "    \n",
      "    tan(x, /)\n",
      "        Return the tangent of x (measured in radians).\n",
      "    \n",
      "    tanh(x, /)\n",
      "        Return the hyperbolic tangent of x.\n",
      "    \n",
      "    trunc(x, /)\n",
      "        Truncates the Real x to the nearest Integral toward 0.\n",
      "        \n",
      "        Uses the __trunc__ magic method.\n",
      "    \n",
      "    ulp(x, /)\n",
      "        Return the value of the least significant bit of the float x.\n",
      "\n",
      "DATA\n",
      "    e = 2.718281828459045\n",
      "    inf = inf\n",
      "    nan = nan\n",
      "    pi = 3.141592653589793\n",
      "    tau = 6.283185307179586\n",
      "\n",
      "FILE\n",
      "    (built-in)\n",
      "\n",
      "\n"
     ]
    }
   ],
   "source": [
    "help(math)"
   ]
  },
  {
   "cell_type": "markdown",
   "id": "7adbb1be-75a6-4b2b-b016-9f177b7a0163",
   "metadata": {},
   "source": [
    "## **Section-4 - Exception Handling**"
   ]
  },
  {
   "cell_type": "code",
   "execution_count": 195,
   "id": "ce0f7733-f11a-450d-985d-1c905df639aa",
   "metadata": {},
   "outputs": [
    {
     "name": "stdin",
     "output_type": "stream",
     "text": [
      "Please enter the first integer: 100\n",
      "Please enter the second integer: 0\n"
     ]
    },
    {
     "ename": "ZeroDivisionError",
     "evalue": "division by zero",
     "output_type": "error",
     "traceback": [
      "\u001b[1;31m---------------------------------------------------------------------------\u001b[0m",
      "\u001b[1;31mZeroDivisionError\u001b[0m                         Traceback (most recent call last)",
      "Cell \u001b[1;32mIn[195], line 3\u001b[0m\n\u001b[0;32m      1\u001b[0m num1 \u001b[38;5;241m=\u001b[39m \u001b[38;5;28mint\u001b[39m(\u001b[38;5;28minput\u001b[39m(\u001b[38;5;124m\"\u001b[39m\u001b[38;5;124mPlease enter the first integer:\u001b[39m\u001b[38;5;124m\"\u001b[39m))\n\u001b[0;32m      2\u001b[0m num2 \u001b[38;5;241m=\u001b[39m \u001b[38;5;28mint\u001b[39m(\u001b[38;5;28minput\u001b[39m(\u001b[38;5;124m\"\u001b[39m\u001b[38;5;124mPlease enter the second integer:\u001b[39m\u001b[38;5;124m\"\u001b[39m))\n\u001b[1;32m----> 3\u001b[0m quotient \u001b[38;5;241m=\u001b[39m num1 \u001b[38;5;241m/\u001b[39m num2\n\u001b[0;32m      4\u001b[0m \u001b[38;5;28mprint\u001b[39m (\u001b[38;5;124mf\u001b[39m\u001b[38;5;124m\"\u001b[39m\u001b[38;5;124mSo \u001b[39m\u001b[38;5;132;01m{\u001b[39;00mnum1\u001b[38;5;132;01m}\u001b[39;00m\u001b[38;5;124m / \u001b[39m\u001b[38;5;132;01m{\u001b[39;00mnum2\u001b[38;5;132;01m}\u001b[39;00m\u001b[38;5;124m = \u001b[39m\u001b[38;5;132;01m{\u001b[39;00mquotient\u001b[38;5;132;01m}\u001b[39;00m\u001b[38;5;124m...\u001b[39m\u001b[38;5;124m\"\u001b[39m)\n\u001b[0;32m      5\u001b[0m \u001b[38;5;28mprint\u001b[39m (\u001b[38;5;124m\"\u001b[39m\u001b[38;5;124mEnd of the program...\u001b[39m\u001b[38;5;124m\"\u001b[39m)\n",
      "\u001b[1;31mZeroDivisionError\u001b[0m: division by zero"
     ]
    }
   ],
   "source": [
    "num1 = int(input(\"Please enter the first integer:\"))\n",
    "num2 = int(input(\"Please enter the second integer:\"))\n",
    "quotient = num1 / num2\n",
    "print (f\"So {num1} / {num2} = {quotient}...\")\n",
    "print (\"End of the program...\")"
   ]
  },
  {
   "cell_type": "code",
   "execution_count": 200,
   "id": "1cd74296",
   "metadata": {},
   "outputs": [
    {
     "name": "stdin",
     "output_type": "stream",
     "text": [
      "Please enter the first integer: 100\n",
      "Please enter the second integer: 0\n"
     ]
    },
    {
     "name": "stdout",
     "output_type": "stream",
     "text": [
      "ZeroDivisionError: Division by ZERO is Illegal !!!\n",
      "ZeroDivisionError: Type of the object is <class 'ZeroDivisionError'>\n",
      "ZeroDivisionError: Error message is division by zero\n",
      "End of the program...\n"
     ]
    }
   ],
   "source": [
    "try:\n",
    "    num1 = int(input(\"Please enter the first integer:\"))\n",
    "    num2 = int(input(\"Please enter the second integer:\"))\n",
    "    quotient = num1 / num2\n",
    "    print (f\"So {num1} / {num2} = {quotient}...\")\n",
    "except ZeroDivisionError as zde:\n",
    "    print (\"ZeroDivisionError: Division by ZERO is Illegal !!!\")\n",
    "    print (\"ZeroDivisionError: Type of the object is\", type(zde))\n",
    "    print (\"ZeroDivisionError: Error message is\", zde)\n",
    "print (\"End of the program...\")"
   ]
  },
  {
   "cell_type": "code",
   "execution_count": 201,
   "id": "1cb4d2c0",
   "metadata": {},
   "outputs": [
    {
     "name": "stdin",
     "output_type": "stream",
     "text": [
      "Please enter the first integer: 100\n",
      "Please enter the second integer: two\n"
     ]
    },
    {
     "ename": "ValueError",
     "evalue": "invalid literal for int() with base 10: 'two'",
     "output_type": "error",
     "traceback": [
      "\u001b[1;31m---------------------------------------------------------------------------\u001b[0m",
      "\u001b[1;31mValueError\u001b[0m                                Traceback (most recent call last)",
      "Cell \u001b[1;32mIn[201], line 3\u001b[0m\n\u001b[0;32m      1\u001b[0m \u001b[38;5;28;01mtry\u001b[39;00m:\n\u001b[0;32m      2\u001b[0m     num1 \u001b[38;5;241m=\u001b[39m \u001b[38;5;28mint\u001b[39m(\u001b[38;5;28minput\u001b[39m(\u001b[38;5;124m\"\u001b[39m\u001b[38;5;124mPlease enter the first integer:\u001b[39m\u001b[38;5;124m\"\u001b[39m))\n\u001b[1;32m----> 3\u001b[0m     num2 \u001b[38;5;241m=\u001b[39m \u001b[38;5;28mint\u001b[39m(\u001b[38;5;28minput\u001b[39m(\u001b[38;5;124m\"\u001b[39m\u001b[38;5;124mPlease enter the second integer:\u001b[39m\u001b[38;5;124m\"\u001b[39m))\n\u001b[0;32m      4\u001b[0m     quotient \u001b[38;5;241m=\u001b[39m num1 \u001b[38;5;241m/\u001b[39m num2\n\u001b[0;32m      5\u001b[0m     \u001b[38;5;28mprint\u001b[39m (\u001b[38;5;124mf\u001b[39m\u001b[38;5;124m\"\u001b[39m\u001b[38;5;124mSo \u001b[39m\u001b[38;5;132;01m{\u001b[39;00mnum1\u001b[38;5;132;01m}\u001b[39;00m\u001b[38;5;124m / \u001b[39m\u001b[38;5;132;01m{\u001b[39;00mnum2\u001b[38;5;132;01m}\u001b[39;00m\u001b[38;5;124m = \u001b[39m\u001b[38;5;132;01m{\u001b[39;00mquotient\u001b[38;5;132;01m}\u001b[39;00m\u001b[38;5;124m...\u001b[39m\u001b[38;5;124m\"\u001b[39m)\n",
      "\u001b[1;31mValueError\u001b[0m: invalid literal for int() with base 10: 'two'"
     ]
    }
   ],
   "source": [
    "try:\n",
    "    num1 = int(input(\"Please enter the first integer:\"))\n",
    "    num2 = int(input(\"Please enter the second integer:\"))\n",
    "    quotient = num1 / num2\n",
    "    print (f\"So {num1} / {num2} = {quotient}...\")\n",
    "except ZeroDivisionError as zde:\n",
    "    print (\"ZeroDivisionError: Division by ZERO is Illegal !!!\")\n",
    "    print (\"ZeroDivisionError: Type of the object is\", type(zde))\n",
    "    print (\"ZeroDivisionError: Error message is\", zde)\n",
    "print (\"End of the program...\")"
   ]
  },
  {
   "cell_type": "code",
   "execution_count": 202,
   "id": "e7c3fd81",
   "metadata": {},
   "outputs": [
    {
     "name": "stdin",
     "output_type": "stream",
     "text": [
      "Please enter the first integer: 100\n",
      "Please enter the second integer: two\n"
     ]
    },
    {
     "name": "stdout",
     "output_type": "stream",
     "text": [
      "ValueError: Please provide integer values only as input !!!\n",
      "ValueError: Type of the object is <class 'ValueError'>\n",
      "ValueError: Error message is invalid literal for int() with base 10: 'two'\n",
      "End of the program...\n"
     ]
    }
   ],
   "source": [
    "try:\n",
    "    num1 = int(input(\"Please enter the first integer:\"))\n",
    "    num2 = int(input(\"Please enter the second integer:\"))\n",
    "    quotient = num1 / num2\n",
    "    print (f\"So {num1} / {num2} = {quotient}...\")\n",
    "except ZeroDivisionError as zde:\n",
    "    print (\"ZeroDivisionError: Division by ZERO is Illegal !!!\")\n",
    "    print (\"ZeroDivisionError: Type of the object is\", type(zde))\n",
    "    print (\"ZeroDivisionError: Error message is\", zde)\n",
    "except ValueError as ve:\n",
    "    print (\"ValueError: Please provide integer values only as input !!!\")\n",
    "    print (\"ValueError: Type of the object is\", type(ve))\n",
    "    print (\"ValueError: Error message is\", ve)\n",
    "print (\"End of the program...\")"
   ]
  },
  {
   "cell_type": "code",
   "execution_count": 209,
   "id": "916c9f9d",
   "metadata": {},
   "outputs": [
    {
     "name": "stdin",
     "output_type": "stream",
     "text": [
      "Please enter the first integer: 100\n",
      "Please enter the second integer: two\n"
     ]
    },
    {
     "name": "stdout",
     "output_type": "stream",
     "text": [
      "Exception: Some unknown error has occurred !!!\n",
      "Exception: Type of the object is <class 'ValueError'>\n",
      "Exception: Error message is invalid literal for int() with base 10: 'two'\n",
      "End of the program...\n"
     ]
    }
   ],
   "source": [
    "try:\n",
    "    num1 = int(input(\"Please enter the first integer:\"))\n",
    "    num2 = int(input(\"Please enter the second integer:\"))\n",
    "    quotient = num1 / num2\n",
    "    print (f\"So {num1} / {num2} = {quotient}...\")\n",
    "# except ValueError as ve:\n",
    "#     print (\"ValueError: Please provide integer values only as input !!!\")\n",
    "#     print (\"ValueError: Type of the object is\", type(ve))\n",
    "#     print (\"ValueError: Error message is\", ve)\n",
    "except ZeroDivisionError as zde:\n",
    "    print (\"ZeroDivisionError: Division by ZERO is Illegal !!!\")\n",
    "    print (\"ZeroDivisionError: Type of the object is\", type(zde))\n",
    "    print (\"ZeroDivisionError: Error message is\", zde)\n",
    "except Exception as ex:\n",
    "    print (\"Exception: Some unknown error has occurred !!!\")\n",
    "    print (\"Exception: Type of the object is\", type(ex))\n",
    "    print (\"Exception: Error message is\", ex)\n",
    "print (\"End of the program...\")"
   ]
  },
  {
   "cell_type": "code",
   "execution_count": 210,
   "id": "3d8c6fe8",
   "metadata": {},
   "outputs": [
    {
     "name": "stdin",
     "output_type": "stream",
     "text": [
      "Please enter the first integer: 100\n",
      "Please enter the second integer: 0\n"
     ]
    },
    {
     "name": "stdout",
     "output_type": "stream",
     "text": [
      "Exception: Some unknown error has occurred !!!\n",
      "Exception: Type of the object is <class 'ZeroDivisionError'>\n",
      "Exception: Error message is division by zero\n",
      "End of the program...\n"
     ]
    }
   ],
   "source": [
    "try:\n",
    "    num1 = int(input(\"Please enter the first integer:\"))\n",
    "    num2 = int(input(\"Please enter the second integer:\"))\n",
    "    quotient = num1 / num2\n",
    "    print (f\"So {num1} / {num2} = {quotient}...\")\n",
    "except ValueError as ve:\n",
    "    print (\"ValueError: Please provide integer values only as input !!!\")\n",
    "    print (\"ValueError: Type of the object is\", type(ve))\n",
    "    print (\"ValueError: Error message is\", ve)\n",
    "# except ZeroDivisionError as zde:\n",
    "#     print (\"ZeroDivisionError: Division by ZERO is Illegal !!!\")\n",
    "#     print (\"ZeroDivisionError: Type of the object is\", type(zde))\n",
    "#     print (\"ZeroDivisionError: Error message is\", zde)\n",
    "except Exception as ex:\n",
    "    print (\"Exception: Some unknown error has occurred !!!\")\n",
    "    print (\"Exception: Type of the object is\", type(ex))\n",
    "    print (\"Exception: Error message is\", ex)\n",
    "print (\"End of the program...\")"
   ]
  },
  {
   "cell_type": "code",
   "execution_count": 212,
   "id": "a7158ef0",
   "metadata": {},
   "outputs": [
    {
     "name": "stdin",
     "output_type": "stream",
     "text": [
      "Please enter the first integer: 100\n",
      "Please enter the second integer: two\n"
     ]
    },
    {
     "name": "stdout",
     "output_type": "stream",
     "text": [
      "Exception: Some unknown error has occurred !!!\n",
      "Exception: Type of the object is <class 'ValueError'>\n",
      "Exception: Error message is invalid literal for int() with base 10: 'two'\n",
      "End of the program...\n"
     ]
    }
   ],
   "source": [
    "try:\n",
    "    num1 = int(input(\"Please enter the first integer:\"))\n",
    "    num2 = int(input(\"Please enter the second integer:\"))\n",
    "    quotient = num1 / num2\n",
    "    print (f\"So {num1} / {num2} = {quotient}...\")\n",
    "except Exception as ex:\n",
    "    print (\"Exception: Some unknown error has occurred !!!\")\n",
    "    print (\"Exception: Type of the object is\", type(ex))\n",
    "    print (\"Exception: Error message is\", ex)\n",
    "except ValueError as ve:\n",
    "    print (\"ValueError: Please provide integer values only as input !!!\")\n",
    "    print (\"ValueError: Type of the object is\", type(ve))\n",
    "    print (\"ValueError: Error message is\", ve)\n",
    "except ZeroDivisionError as zde:\n",
    "    print (\"ZeroDivisionError: Division by ZERO is Illegal !!!\")\n",
    "    print (\"ZeroDivisionError: Type of the object is\", type(zde))\n",
    "    print (\"ZeroDivisionError: Error message is\", zde)\n",
    "print (\"End of the program...\")"
   ]
  },
  {
   "cell_type": "code",
   "execution_count": 216,
   "id": "bed72a31",
   "metadata": {},
   "outputs": [
    {
     "name": "stdin",
     "output_type": "stream",
     "text": [
      "Please enter the first integer: 100\n",
      "Please enter the second integer: -900\n"
     ]
    },
    {
     "name": "stdout",
     "output_type": "stream",
     "text": [
      "NameError: Input value is out of range...\n",
      "NameError: Input value is lesser than -100...\n",
      "End of the program...\n"
     ]
    }
   ],
   "source": [
    "try:\n",
    "    num1 = int(input(\"Please enter the first integer:\"))\n",
    "    num2 = int(input(\"Please enter the second integer:\"))\n",
    "    if (num1 > 100 or num2 > 100):\n",
    "        raise NameError(\"UpperLimitError\")\n",
    "    if (num1 < -100 or num2 < -100):\n",
    "        raise NameError(\"LowerLimitError\")\n",
    "    quotient = num1 / num2\n",
    "    print (f\"So {num1} / {num2} = {quotient}...\")\n",
    "except NameError as ne:\n",
    "    print (\"NameError: Input value is out of range...\")\n",
    "    if (str(ne) == \"UpperLimitError\"):\n",
    "        print (\"NameError: Input value is greater than +100...\")\n",
    "    if (str(ne) == \"LowerLimitError\"):\n",
    "        print (\"NameError: Input value is lesser than -100...\")\n",
    "except ValueError as ve:\n",
    "    print (\"ValueError: Please provide integer values only as input !!!\")\n",
    "    print (\"ValueError: Type of the object is\", type(ve))\n",
    "    print (\"ValueError: Error message is\", ve)\n",
    "except ZeroDivisionError as zde:\n",
    "    print (\"ZeroDivisionError: Division by ZERO is Illegal !!!\")\n",
    "    print (\"ZeroDivisionError: Type of the object is\", type(zde))\n",
    "    print (\"ZeroDivisionError: Error message is\", zde)\n",
    "except Exception as ex:\n",
    "    print (\"Exception: Some unknown error has occurred !!!\")\n",
    "    print (\"Exception: Type of the object is\", type(ex))\n",
    "    print (\"Exception: Error message is\", ex)\n",
    "print (\"End of the program...\")"
   ]
  },
  {
   "cell_type": "code",
   "execution_count": 224,
   "id": "7da9b2e5",
   "metadata": {},
   "outputs": [
    {
     "name": "stdin",
     "output_type": "stream",
     "text": [
      "Please enter the first integer: 100\n",
      "Please enter the second integer: 0\n"
     ]
    },
    {
     "name": "stdout",
     "output_type": "stream",
     "text": [
      "ZeroDivisionError: Division by ZERO is Illegal !!!\n",
      "ZeroDivisionError: Type of the object is <class 'ZeroDivisionError'>\n",
      "ZeroDivisionError: Error message is division by zero\n",
      "FINALLY: Finally block is executing...\n",
      "FINALLY: Finally block executes always...\n",
      "End of the program...\n"
     ]
    }
   ],
   "source": [
    "try:\n",
    "    num1 = int(input(\"Please enter the first integer:\"))\n",
    "    num2 = int(input(\"Please enter the second integer:\"))\n",
    "    if (num1 > 100 or num2 > 100):\n",
    "        raise NameError(\"UpperLimitError\")\n",
    "    if (num1 < -100 or num2 < -100):\n",
    "        raise NameError(\"LowerLimitError\")\n",
    "    quotient = num1 / num2\n",
    "    print (f\"So {num1} / {num2} = {quotient}...\")\n",
    "except NameError as ne:\n",
    "    print (\"NameError: Input value is out of range...\")\n",
    "    if (str(ne) == \"UpperLimitError\"):\n",
    "        print (\"NameError: Input value is greater than +100...\")\n",
    "    if (str(ne) == \"LowerLimitError\"):\n",
    "        print (\"NameError: Input value is lesser than -100...\")\n",
    "except ValueError as ve:\n",
    "    print (\"ValueError: Please provide integer values only as input !!!\")\n",
    "    print (\"ValueError: Type of the object is\", type(ve))\n",
    "    print (\"ValueError: Error message is\", ve)\n",
    "except ZeroDivisionError as zde:\n",
    "    print (\"ZeroDivisionError: Division by ZERO is Illegal !!!\")\n",
    "    print (\"ZeroDivisionError: Type of the object is\", type(zde))\n",
    "    print (\"ZeroDivisionError: Error message is\", zde)\n",
    "except Exception as ex:\n",
    "    print (\"Exception: Some unknown error has occurred !!!\")\n",
    "    print (\"Exception: Type of the object is\", type(ex))\n",
    "    print (\"Exception: Error message is\", ex)\n",
    "else:\n",
    "    print (\"ELSE: Else block is executing...\")\n",
    "    print (\"ELSE: Had a smooth execution...\")\n",
    "finally:\n",
    "    print (\"FINALLY: Finally block is executing...\")\n",
    "    print (\"FINALLY: Finally block executes always...\")\n",
    "print (\"End of the program...\")"
   ]
  },
  {
   "cell_type": "code",
   "execution_count": 225,
   "id": "658b1541",
   "metadata": {},
   "outputs": [
    {
     "name": "stdin",
     "output_type": "stream",
     "text": [
      "Please enter the first integer: 100\n",
      "Please enter the second integer: 0\n"
     ]
    },
    {
     "name": "stdout",
     "output_type": "stream",
     "text": [
      "ZeroDivisionError: Division by ZERO is Illegal !!!\n",
      "ZeroDivisionError: Type of the object is <class 'ZeroDivisionError'>\n",
      "ZeroDivisionError: Error message is division by zero\n",
      "FINALLY: Finally block is executing...\n",
      "FINALLY: Finally block executes always...\n"
     ]
    },
    {
     "name": "stdin",
     "output_type": "stream",
     "text": [
      "Please enter the first integer: 100\n",
      "Please enter the second integer: two\n"
     ]
    },
    {
     "name": "stdout",
     "output_type": "stream",
     "text": [
      "ValueError: Please provide integer values only as input !!!\n",
      "ValueError: Type of the object is <class 'ValueError'>\n",
      "ValueError: Error message is invalid literal for int() with base 10: 'two'\n",
      "FINALLY: Finally block is executing...\n",
      "FINALLY: Finally block executes always...\n"
     ]
    },
    {
     "name": "stdin",
     "output_type": "stream",
     "text": [
      "Please enter the first integer: 900\n",
      "Please enter the second integer: 20\n"
     ]
    },
    {
     "name": "stdout",
     "output_type": "stream",
     "text": [
      "NameError: Input value is out of range...\n",
      "NameError: Input value is greater than +100...\n",
      "FINALLY: Finally block is executing...\n",
      "FINALLY: Finally block executes always...\n"
     ]
    },
    {
     "name": "stdin",
     "output_type": "stream",
     "text": [
      "Please enter the first integer: -900\n",
      "Please enter the second integer: 20\n"
     ]
    },
    {
     "name": "stdout",
     "output_type": "stream",
     "text": [
      "NameError: Input value is out of range...\n",
      "NameError: Input value is lesser than -100...\n",
      "FINALLY: Finally block is executing...\n",
      "FINALLY: Finally block executes always...\n"
     ]
    },
    {
     "name": "stdin",
     "output_type": "stream",
     "text": [
      "Please enter the first integer: 100\n",
      "Please enter the second integer: 20\n"
     ]
    },
    {
     "name": "stdout",
     "output_type": "stream",
     "text": [
      "So 100 / 20 = 5.0...\n",
      "ELSE: Else block is executing...\n",
      "ELSE: Had a smooth execution...\n",
      "FINALLY: Finally block is executing...\n",
      "FINALLY: Finally block executes always...\n",
      "End of the program...\n"
     ]
    }
   ],
   "source": [
    "while (True):\n",
    "    try:\n",
    "        num1 = int(input(\"Please enter the first integer:\"))\n",
    "        num2 = int(input(\"Please enter the second integer:\"))\n",
    "        if (num1 > 100 or num2 > 100):\n",
    "            raise NameError(\"UpperLimitError\")\n",
    "        if (num1 < -100 or num2 < -100):\n",
    "            raise NameError(\"LowerLimitError\")\n",
    "        quotient = num1 / num2\n",
    "        print (f\"So {num1} / {num2} = {quotient}...\")\n",
    "    except NameError as ne:\n",
    "        print (\"NameError: Input value is out of range...\")\n",
    "        if (str(ne) == \"UpperLimitError\"):\n",
    "            print (\"NameError: Input value is greater than +100...\")\n",
    "        if (str(ne) == \"LowerLimitError\"):\n",
    "            print (\"NameError: Input value is lesser than -100...\")\n",
    "    except ValueError as ve:\n",
    "        print (\"ValueError: Please provide integer values only as input !!!\")\n",
    "        print (\"ValueError: Type of the object is\", type(ve))\n",
    "        print (\"ValueError: Error message is\", ve)\n",
    "    except ZeroDivisionError as zde:\n",
    "        print (\"ZeroDivisionError: Division by ZERO is Illegal !!!\")\n",
    "        print (\"ZeroDivisionError: Type of the object is\", type(zde))\n",
    "        print (\"ZeroDivisionError: Error message is\", zde)\n",
    "    except Exception as ex:\n",
    "        print (\"Exception: Some unknown error has occurred !!!\")\n",
    "        print (\"Exception: Type of the object is\", type(ex))\n",
    "        print (\"Exception: Error message is\", ex)\n",
    "    else:\n",
    "        print (\"ELSE: Else block is executing...\")\n",
    "        print (\"ELSE: Had a smooth execution...\")\n",
    "        break\n",
    "    finally:\n",
    "        print (\"FINALLY: Finally block is executing...\")\n",
    "        print (\"FINALLY: Finally block executes always...\")\n",
    "print (\"End of the program...\")"
   ]
  },
  {
   "cell_type": "code",
   "execution_count": null,
   "id": "30dd69db-89f8-40ae-9a88-989ceaa2c4e3",
   "metadata": {},
   "outputs": [],
   "source": [
    "https://docs.python.org/3.11/library/exceptions.html"
   ]
  },
  {
   "cell_type": "code",
   "execution_count": null,
   "id": "94cd4ee2-68d9-4ea0-b4de-7b7711a7de5a",
   "metadata": {},
   "outputs": [],
   "source": []
  },
  {
   "cell_type": "code",
   "execution_count": null,
   "id": "0579665f-e836-44a7-9b60-fc27b32f6d55",
   "metadata": {},
   "outputs": [],
   "source": []
  },
  {
   "cell_type": "code",
   "execution_count": null,
   "id": "73241c6a-7ece-449b-b6a7-0f22dffc864c",
   "metadata": {},
   "outputs": [],
   "source": []
  },
  {
   "cell_type": "code",
   "execution_count": null,
   "id": "302058d8-d8db-4228-bc36-e716f1bc228c",
   "metadata": {},
   "outputs": [],
   "source": []
  },
  {
   "cell_type": "code",
   "execution_count": null,
   "id": "e96da0a8-ced4-4d49-9631-491c374a1e4a",
   "metadata": {},
   "outputs": [],
   "source": []
  },
  {
   "cell_type": "code",
   "execution_count": null,
   "id": "d78776ee-d34e-42da-ba8b-8ed278a3bced",
   "metadata": {},
   "outputs": [],
   "source": []
  }
 ],
 "metadata": {
  "kernelspec": {
   "display_name": "Python 3 (ipykernel)",
   "language": "python",
   "name": "python3"
  },
  "language_info": {
   "codemirror_mode": {
    "name": "ipython",
    "version": 3
   },
   "file_extension": ".py",
   "mimetype": "text/x-python",
   "name": "python",
   "nbconvert_exporter": "python",
   "pygments_lexer": "ipython3",
   "version": "3.11.7"
  }
 },
 "nbformat": 4,
 "nbformat_minor": 5
}
