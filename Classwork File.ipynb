{
 "cells": [
  {
   "cell_type": "markdown",
   "id": "5a996d26-7d84-4e63-86e1-641d7fe377ad",
   "metadata": {},
   "source": [
    "# **Python Scripting**"
   ]
  },
  {
   "cell_type": "markdown",
   "id": "2487d476-744e-4289-9d28-60f08cc8812c",
   "metadata": {},
   "source": [
    "## **Section-1: Python Inputs and Outputs**"
   ]
  },
  {
   "cell_type": "code",
   "execution_count": 5,
   "id": "370c9962-a327-431a-ab85-9792819b0db4",
   "metadata": {},
   "outputs": [
    {
     "name": "stdin",
     "output_type": "stream",
     "text": [
      "Please enter the first number:  100\n",
      "Please enter the second number:  200\n"
     ]
    },
    {
     "name": "stdout",
     "output_type": "stream",
     "text": [
      "<class 'str'> <class 'str'> <class 'str'>\n",
      "100 200 100200\n",
      "End of the program...\n"
     ]
    }
   ],
   "source": [
    "# Addition of two integer numbers\n",
    "num1 = input(\"Please enter the first number: \")\n",
    "num2 = input(\"Please enter the second number: \")\n",
    "total = num1 + num2\n",
    "print (type(num1), type(num2), type(total))\n",
    "print(num1, num2, total)\n",
    "print(\"End of the program...\")"
   ]
  },
  {
   "cell_type": "code",
   "execution_count": 6,
   "id": "821e145a",
   "metadata": {},
   "outputs": [
    {
     "name": "stdin",
     "output_type": "stream",
     "text": [
      "Please enter the first number:  100\n",
      "Please enter the second number:  200\n"
     ]
    },
    {
     "name": "stdout",
     "output_type": "stream",
     "text": [
      "<class 'int'> <class 'int'> <class 'int'>\n",
      "100 200 300\n",
      "End of the program...\n"
     ]
    }
   ],
   "source": [
    "# Addition of two integer numbers\n",
    "num1 = int(input(\"Please enter the first number: \"))\n",
    "num2 = int(input(\"Please enter the second number: \"))\n",
    "total = num1 + num2\n",
    "print (type(num1), type(num2), type(total))\n",
    "print(num1, num2, total)\n",
    "print(\"End of the program...\")"
   ]
  },
  {
   "cell_type": "code",
   "execution_count": 21,
   "id": "b230803e-3b6c-4ab2-a18a-6c03d9b24fbe",
   "metadata": {},
   "outputs": [
    {
     "name": "stdout",
     "output_type": "stream",
     "text": [
      "So 100 + 200 = 300\n",
      "So 100 + 200 = 300\n",
      "So 100 + 200 = 300\n",
      "So 100 + 200 = 300\n",
      "So 100 + 200 = 300\n",
      "So 100 + 200 = 300\n",
      "So 100 + 200 = 300\n",
      "So 100 + 200 = 300\n",
      "So 100 + 200 = 300.000000\n",
      "So 100 + 200 =    300.000\n",
      "So 100 + 200 = 300\n"
     ]
    }
   ],
   "source": [
    "print(\"So\", num1, \"+\", num2, \"=\", total)\n",
    "print(\"So \" + str(num1) + \" + \" + str(num2) + \" = \" + str(total))\n",
    "print(\"So {} + {} = {}\".format(num1, num2, total))   # {} is called variable placeholder\n",
    "print(\"So {0} + {1} = {2}\".format(num1, num2, total))  # indexed placeholder\n",
    "print(\"So {2} + {1} = {0}\".format(total, num2, num1))  # indexed placeholder\n",
    "print(\"So {fnum} + {snum} = {tot}\".format(fnum = num1, snum = num2, tot = total))  # labelled placeholder\n",
    "print(\"So {fnum} + {snum} = {tot}\".format(fnum = num1, tot = total, snum = num2))  # labelled placeholder\n",
    "print(\"So %d + %d = %d\"%(num1, num2, total))\n",
    "print(\"So %d + %d = %f\"%(num1, num2, total))\n",
    "print(\"So %d + %d = %10.3f\"%(num1, num2, total))\n",
    "print(f\"So {num1} + {num2} = {total}\")  # smart formatting"
   ]
  },
  {
   "cell_type": "markdown",
   "id": "0a461c85-507e-4a98-b3dc-1ab3f7cadf74",
   "metadata": {},
   "source": [
    "## **Dynamic Variable Types**"
   ]
  },
  {
   "cell_type": "code",
   "execution_count": 25,
   "id": "07d0698e-9562-4185-846a-bca297398e9b",
   "metadata": {},
   "outputs": [
    {
     "name": "stdout",
     "output_type": "stream",
     "text": [
      "100 <class 'int'> 140737211649928\n",
      "100.5 <class 'float'> 2483861781456\n",
      "Python <class 'str'> 140737210385320\n",
      "P <class 'str'> 140737211691848\n",
      "Punch <class 'str'> 2483867714672\n",
      "P <class 'str'> 140737211691848\n",
      "True <class 'bool'> 140737210174016\n",
      "False <class 'bool'> 140737210174048\n"
     ]
    }
   ],
   "source": [
    "var1 = 100; print (var1, type(var1), id(var1))\n",
    "var1 = 100.5; print (var1, type(var1), id(var1))\n",
    "var1 = \"Python\"; print (var1, type(var1), id(var1))\n",
    "var1 = \"P\"; print (var1, type(var1), id(var1))\n",
    "var1 = 'Punch'; print (var1, type(var1), id(var1))\n",
    "var1 = 'P'; print (var1, type(var1), id(var1))\n",
    "var1 = True; print (var1, type(var1), id(var1))\n",
    "var1 = False; print (var1, type(var1), id(var1))"
   ]
  },
  {
   "cell_type": "markdown",
   "id": "30e89c80-439a-44b3-9da4-ba1d8eb40485",
   "metadata": {},
   "source": [
    "## **Python Operators**"
   ]
  },
  {
   "cell_type": "code",
   "execution_count": null,
   "id": "e5307e0d-63c8-4603-8e28-11614cf0d527",
   "metadata": {},
   "outputs": [],
   "source": [
    "# Arithmetic Operators: + - * / // ** %\n",
    "# Conditional Operators: > >= < <= != ==\n",
    "# Logical Operators: and or not\n",
    "# Assignment Operator: = \n",
    "# Special Assignment Operators: += -= *= /= //= **= %=\n",
    "\n",
    "# Operators: Unary, Binary, Ternary\n",
    "# Unary Operators (Require only one operand): +100 -300\n",
    "# Binary Operators (Require only two operands): 700 + 100    900 - 300\n",
    "# Ternary Operator (Requires only three operands)\n",
    "\n",
    "num = 100\n",
    "result = \"Even\" if (num % 2 == 0) else \"ODD\"  # Ternary Operator\n",
    "print (num, result)\n",
    "num = 101\n",
    "result = \"Even\" if (num % 2 == 0) else \"ODD\"  # Ternary Operator\n",
    "print (num, result)"
   ]
  },
  {
   "cell_type": "code",
   "execution_count": 34,
   "id": "2f1d1bb3-b9e1-4929-8573-f7596c1abeff",
   "metadata": {},
   "outputs": [
    {
     "name": "stdout",
     "output_type": "stream",
     "text": [
      "2.5 2\n",
      "1024\n"
     ]
    }
   ],
   "source": [
    "print (100 / 40, 100 // 40)  # float division, integer division\n",
    "print (2 ** 10)  # exponentiation operator"
   ]
  },
  {
   "cell_type": "code",
   "execution_count": 32,
   "id": "1ce6efcc-7c53-48a4-b843-1e55cc2a5012",
   "metadata": {},
   "outputs": [
    {
     "name": "stdout",
     "output_type": "stream",
     "text": [
      "HelloHelloHello\n",
      "Hello Hello Hello \n",
      "Hello Hello Hello \n",
      "Welcome Welcome Welcome Welcome Welcome \n"
     ]
    }
   ],
   "source": [
    "print (\"Hello\" * 3)\n",
    "print (\"Hello \" * 3)\n",
    "print ((\"Hello\" + \" \") * 3)\n",
    "print (\"Welcome \" * 5)"
   ]
  },
  {
   "cell_type": "code",
   "execution_count": 42,
   "id": "4658d631-2de7-4d6a-a873-36c60ec2218b",
   "metadata": {},
   "outputs": [
    {
     "name": "stdout",
     "output_type": "stream",
     "text": [
      "A a\n"
     ]
    }
   ],
   "source": [
    "# Bitwise Operators: & | ~ ^ (And, Or, Not, Xor respectively)\n",
    "# A = 65 = 64 + 1      = 0100 0001\n",
    "#                     or 0010 0000 => 32 = 0x20\n",
    "#                        ---------\n",
    "# a = 97 = 64 + 32 + 1 = 0110 0001  \n",
    "char1 = 'A'\n",
    "# char2 = chr(ord(char1) | 32)\n",
    "char2 = chr(ord(char1) | 0x20)\n",
    "print (char1, char2)"
   ]
  },
  {
   "cell_type": "code",
   "execution_count": 44,
   "id": "85b0a09c",
   "metadata": {},
   "outputs": [
    {
     "name": "stdout",
     "output_type": "stream",
     "text": [
      "a A\n"
     ]
    }
   ],
   "source": [
    "# Bitwise Operators: & | ~ ^ (And, Or, Not, Xor respectively)\n",
    "# a = 97 = 64 + 32 + 1 = 0110 0001  \n",
    "#                    and 1101 1111 => 255 - 32 = 223 = 0xdf\n",
    "#                        ---------\n",
    "# A = 65 = 64 + 1      = 0100 0001\n",
    "char1 = 'a'\n",
    "# char2 = chr(ord(char1) & 223)\n",
    "char2 = chr(ord(char1) & 0xdf)\n",
    "print (char1, char2)"
   ]
  },
  {
   "cell_type": "code",
   "execution_count": 46,
   "id": "3eb133e1",
   "metadata": {},
   "outputs": [
    {
     "name": "stdout",
     "output_type": "stream",
     "text": [
      "a A\n",
      "A a\n"
     ]
    }
   ],
   "source": [
    "# a xor 1 = a', a xor 0 = a, a xor a = 0, a xor a' = 1\n",
    "# Bitwise Operators: & | ~ ^ (And, Or, Not, Xor respectively)\n",
    "# a = 97 = 64 + 32 + 1 = 0110 0001  \n",
    "#                    xor 0010 0000 => 32 = 0x20\n",
    "#                        ---------\n",
    "# A = 65 = 64 + 1      = 0100 0001\n",
    "char1 = 'a'\n",
    "char2 = chr(ord(char1) ^ 0x20)\n",
    "print (char1, char2)\n",
    "char1 = 'A'\n",
    "char2 = chr(ord(char1) ^ 32)\n",
    "print (char1, char2)"
   ]
  },
  {
   "cell_type": "markdown",
   "id": "196d4d50-c186-448d-a766-215af8c0f764",
   "metadata": {},
   "source": [
    "## **ASCII Codes and Characters**"
   ]
  },
  {
   "cell_type": "code",
   "execution_count": 36,
   "id": "14c673af-ce5c-4502-8f9f-31cade9f0794",
   "metadata": {},
   "outputs": [
    {
     "name": "stdout",
     "output_type": "stream",
     "text": [
      "65 97 90 122\n",
      "A a Z z\n"
     ]
    }
   ],
   "source": [
    "# ASCII (American Standard Code for Information Interchange) Codes\n",
    "# A => 65, B => 66, Z => 90\n",
    "# a => 97, b => 98, z => 122\n",
    "# 0 => 48, 1 => 49, 9 => 57\n",
    "# Space Bar/Blank => 32, Enter => 13, Esc => 27, Back Space => 9, Tab => 8\n",
    "# ASCII Code is 8 bits code ranging from 0 to 255\n",
    "# It can be divided into two categories:\n",
    "# 1. Normal ASCII Codes (0 to 127) - Printable\n",
    "# 2. Extended ASCII Codes (128 to 255) - Non-Printable\n",
    "print (ord('A'), ord('a'), ord('Z'), ord('z'))  # returns characters to ASCII Codes\n",
    "print (chr(65), chr(97), chr(90), chr(122))     # returns ASCII Codes to characters"
   ]
  },
  {
   "cell_type": "markdown",
   "id": "4b78950b-fd27-4d3e-9388-712029f296fa",
   "metadata": {},
   "source": [
    "## **Conditional Statements**"
   ]
  },
  {
   "cell_type": "code",
   "execution_count": 58,
   "id": "4e1498ae-105c-46c4-a1dd-8e901f08f5ba",
   "metadata": {},
   "outputs": [
    {
     "name": "stdin",
     "output_type": "stream",
     "text": [
      "Please enter the first integer number:  100\n",
      "Please enter the second integer number:  200\n",
      "Please enter the third integer number:  300\n"
     ]
    },
    {
     "name": "stdout",
     "output_type": "stream",
     "text": [
      "The third number is the maximum number...\n",
      "300 is the maximum number...\n",
      "End of the program...\n"
     ]
    }
   ],
   "source": [
    "# calculate the first maximum out of three user given integer numbers\n",
    "num1 = int(input(\"Please enter the first integer number: \"))\n",
    "num2 = int(input(\"Please enter the second integer number: \"))\n",
    "num3 = int(input(\"Please enter the third integer number: \"))\n",
    "if (num1 >= num2):\n",
    "    if (num1 >= num3):\n",
    "        print(\"The first number is the maximum number...\")\n",
    "        print (f\"{num1} is the maximum number...\")\n",
    "    else:\n",
    "        print(\"The third number is the maximum number...\")\n",
    "        print (f\"{num3} is the maximum number...\")\n",
    "elif (num2 >= num3):    # else if, elsif, elseif, elif\n",
    "        print(\"The second number is the maximum number...\")\n",
    "        print (f\"{num2} is the maximum number...\")\n",
    "else:\n",
    "    print(\"The third number is the maximum number...\")\n",
    "    print (f\"{num3} is the maximum number...\")\n",
    "print(\"End of the program...\")"
   ]
  },
  {
   "cell_type": "code",
   "execution_count": 59,
   "id": "5a387b8c",
   "metadata": {},
   "outputs": [
    {
     "name": "stdin",
     "output_type": "stream",
     "text": [
      "Please enter the first integer number:  100\n",
      "Please enter the second integer number:  300\n",
      "Please enter the third integer number:  200\n"
     ]
    },
    {
     "name": "stdout",
     "output_type": "stream",
     "text": [
      "The second number is the maximum number...\n",
      "300 is the maximum number...\n",
      "End of the program...\n"
     ]
    }
   ],
   "source": [
    "# calculate the first maximum out of three user given integer numbers\n",
    "num1 = int(input(\"Please enter the first integer number: \"))\n",
    "num2 = int(input(\"Please enter the second integer number: \"))\n",
    "num3 = int(input(\"Please enter the third integer number: \"))\n",
    "if (num1 >= num2 and num1 >= num3):\n",
    "    print(\"The first number is the maximum number...\")\n",
    "    print (f\"{num1} is the maximum number...\")\n",
    "elif (num2 >= num3):\n",
    "        print(\"The second number is the maximum number...\")\n",
    "        print (f\"{num2} is the maximum number...\")\n",
    "else:\n",
    "    print(\"The third number is the maximum number...\")\n",
    "    print (f\"{num3} is the maximum number...\")\n",
    "print(\"End of the program...\")"
   ]
  },
  {
   "cell_type": "markdown",
   "id": "e5f3d02f-4138-4d7b-8778-7b69722a469a",
   "metadata": {},
   "source": [
    "## **Class Assignment:**\n",
    "\n",
    ">Find out second highest integer number out of three user given integer numbers. Write a program in Python and test with multiple input combinations."
   ]
  },
  {
   "cell_type": "code",
   "execution_count": null,
   "id": "ee43650c-2575-4368-9294-84830078cb15",
   "metadata": {},
   "outputs": [],
   "source": [
    "num1, num2, num3\n",
    "num1, num2 => max1, max2\n",
    "\n",
    "                     max1                  max2\n",
    "                     700                   200\n",
    "num3 =          900                                    max1 = 700\n",
    "num3 =                          500                    num3 = 500\n",
    "num3 =                                         100     max2 = 200"
   ]
  },
  {
   "cell_type": "code",
   "execution_count": 66,
   "id": "359aee8c-a9b6-4b1d-bf4e-c4dc3135e7bf",
   "metadata": {},
   "outputs": [
    {
     "name": "stdin",
     "output_type": "stream",
     "text": [
      "Please enter the first integer number:  100\n",
      "Please enter the second integer number:  200\n",
      "Please enter the third integer number:  300\n"
     ]
    },
    {
     "name": "stdout",
     "output_type": "stream",
     "text": [
      "So the second maximum number is 100...\n",
      "End of the program...\n"
     ]
    }
   ],
   "source": [
    "num1 = int(input(\"Please enter the first integer number: \"))\n",
    "num2 = int(input(\"Please enter the second integer number: \"))\n",
    "num3 = int(input(\"Please enter the third integer number: \"))\n",
    "if (num1 >= num2):\n",
    "    max1, max2 = num1, num2\n",
    "else:\n",
    "    max1, max2 = num1, num2\n",
    "if (num3 >= max1):\n",
    "    print (f\"So the second maximum number is {max1}...\")\n",
    "elif (num3 >= max2):\n",
    "    print (f\"So the second maximum number is {num3}...\")\n",
    "else:\n",
    "    print (f\"So the second maximum number is {max2}...\")\n",
    "print (\"End of the program...\")"
   ]
  },
  {
   "cell_type": "markdown",
   "id": "231ff576-8ff0-4f45-82e6-b6929aa8879e",
   "metadata": {},
   "source": [
    "## **Dealing with 'print' statement**"
   ]
  },
  {
   "cell_type": "code",
   "execution_count": 67,
   "id": "5fddbd37-384f-428c-a1be-5650e90bb26e",
   "metadata": {},
   "outputs": [
    {
     "name": "stdout",
     "output_type": "stream",
     "text": [
      "Help on built-in function print in module builtins:\n",
      "\n",
      "print(*args, sep=' ', end='\\n', file=None, flush=False)\n",
      "    Prints the values to a stream, or to sys.stdout by default.\n",
      "    \n",
      "    sep\n",
      "      string inserted between values, default a space.\n",
      "    end\n",
      "      string appended after the last value, default a newline.\n",
      "    file\n",
      "      a file-like object (stream); defaults to the current sys.stdout.\n",
      "    flush\n",
      "      whether to forcibly flush the stream.\n",
      "\n"
     ]
    }
   ],
   "source": [
    "help(print)"
   ]
  },
  {
   "cell_type": "code",
   "execution_count": 74,
   "id": "af7dba13-fa44-404f-8e4f-d85ce72716fc",
   "metadata": {},
   "outputs": [
    {
     "name": "stdout",
     "output_type": "stream",
     "text": [
      "Hello Welcome\n",
      "Hello, Welcome\n",
      "Hello - Welcome, Good Bye\n"
     ]
    }
   ],
   "source": [
    "print (\"Hello\", \"Welcome\")\n",
    "print (\"Hello\", \"Welcome\", sep = \", \")\n",
    "print (\"Hello\", \"Welcome\", sep = \" - \", end = \", \")\n",
    "print (\"Good Bye\")"
   ]
  },
  {
   "cell_type": "markdown",
   "id": "76feab54-89c0-4cef-b895-8bac89cd8a3d",
   "metadata": {},
   "source": [
    "## **Section-2: Python Loops**"
   ]
  },
  {
   "cell_type": "code",
   "execution_count": 78,
   "id": "3f5f5da4-1303-4a94-b1dc-9ef72d7291c2",
   "metadata": {},
   "outputs": [
    {
     "name": "stdout",
     "output_type": "stream",
     "text": [
      "Current value in i = 1...\n",
      "Current value in i = 3...\n",
      "Current value in i = 5...\n",
      "Current value in i = 7...\n",
      "Current value in i = 9...\n",
      "Total number of loop iterations is 5...\n",
      "End of the program...\n"
     ]
    }
   ],
   "source": [
    "kount = 0\n",
    "for i in range(1, 10, 2):\n",
    "    print (f\"Current value in i = {i}...\")\n",
    "    kount += 1\n",
    "print (f\"Total number of loop iterations is {kount}...\")\n",
    "print (\"End of the program...\")"
   ]
  },
  {
   "cell_type": "code",
   "execution_count": 80,
   "id": "e2c61a6c",
   "metadata": {},
   "outputs": [
    {
     "name": "stdout",
     "output_type": "stream",
     "text": [
      "Current value in i = 1...\n",
      "Current value in i = 3...\n",
      "Current value in i = 5...\n",
      "Current value in i = 7...\n",
      "Current value in i = 9...\n",
      "ELSE: Executing the else block...\n",
      "ELSE: Smooth execution...\n",
      "Total number of loop iterations is 5...\n",
      "End of the program...\n"
     ]
    }
   ],
   "source": [
    "kount = 0\n",
    "for i in range(1, 10, 2):\n",
    "    print (f\"Current value in i = {i}...\")\n",
    "    kount += 1\n",
    "else:\n",
    "    print (\"ELSE: Executing the else block...\")\n",
    "    print (\"ELSE: Smooth execution...\")\n",
    "print (f\"Total number of loop iterations is {kount}...\")\n",
    "print (\"End of the program...\")"
   ]
  },
  {
   "cell_type": "code",
   "execution_count": 84,
   "id": "eeeec5c5",
   "metadata": {},
   "outputs": [
    {
     "name": "stdout",
     "output_type": "stream",
     "text": [
      "Current value in i = 1...\n",
      "Current value in i = 2...\n",
      "Current value in i = 3...\n",
      "Current value in i = 4...\n",
      "Current value in i = 5...\n",
      "Current value in i = 6...\n",
      "Coming out from the loop due to Break statement for i = 6...\n",
      "Total number of loop iterations is 5...\n",
      "End of the program...\n"
     ]
    }
   ],
   "source": [
    "kount = 0\n",
    "for i in range(1, 10):\n",
    "    print (f\"Current value in i = {i}...\")\n",
    "    if (i == 6):\n",
    "        print (f\"Coming out from the loop due to Break statement for i = {i}...\")\n",
    "        break\n",
    "    kount += 1\n",
    "else:\n",
    "    print (\"ELSE: Executing the else block...\")\n",
    "    print (\"ELSE: Smooth execution...\")\n",
    "print (f\"Total number of loop iterations is {kount}...\")\n",
    "print (\"End of the program...\")"
   ]
  },
  {
   "cell_type": "code",
   "execution_count": 86,
   "id": "65245b89",
   "metadata": {},
   "outputs": [
    {
     "name": "stdout",
     "output_type": "stream",
     "text": [
      "Current value in i = 1...\n",
      "Current value in i = 2...\n",
      "Current value in i = 3...\n",
      "Executing Continue statement for i = 4...\n",
      "Current value in i = 5...\n",
      "Current value in i = 6...\n",
      "Executing Continue statement for i = 7...\n",
      "Current value in i = 8...\n",
      "Current value in i = 9...\n",
      "ELSE: Executing the else block...\n",
      "ELSE: Smooth execution...\n",
      "Total number of loop iterations is 7...\n",
      "End of the program...\n"
     ]
    }
   ],
   "source": [
    "kount = 0\n",
    "for i in range(1, 10):\n",
    "    if (i == 4 or i == 7):\n",
    "        print (f\"Executing Continue statement for i = {i}...\")\n",
    "        continue\n",
    "    print (f\"Current value in i = {i}...\")\n",
    "    kount += 1\n",
    "else:\n",
    "    print (\"ELSE: Executing the else block...\")\n",
    "    print (\"ELSE: Smooth execution...\")\n",
    "print (f\"Total number of loop iterations is {kount}...\")\n",
    "print (\"End of the program...\")"
   ]
  },
  {
   "cell_type": "code",
   "execution_count": 87,
   "id": "c7cfb011",
   "metadata": {},
   "outputs": [
    {
     "name": "stdout",
     "output_type": "stream",
     "text": [
      "Current value in i = 1...\n",
      "Current value in i = 2...\n",
      "Current value in i = 3...\n",
      "Executing Continue statement for i = 4...\n",
      "Current value in i = 5...\n",
      "Current value in i = 6...\n",
      "Executing Continue statement for i = 7...\n",
      "Current value in i = 8...\n",
      "Current value in i = 9...\n",
      "ELSE: Executing the else block...\n",
      "ELSE: Smooth execution...\n",
      "Total number of loop iterations is 7...\n",
      "End of the program...\n"
     ]
    }
   ],
   "source": [
    "kount = 0\n",
    "for i in range(1, 10):\n",
    "    if (i == 4 or i == 7):\n",
    "        print (f\"Executing Continue statement for i = {i}...\")\n",
    "        continue\n",
    "    else:\n",
    "        pass    # statement place holder\n",
    "    print (f\"Current value in i = {i}...\")\n",
    "    kount += 1\n",
    "else:\n",
    "    print (\"ELSE: Executing the else block...\")\n",
    "    print (\"ELSE: Smooth execution...\")\n",
    "print (f\"Total number of loop iterations is {kount}...\")\n",
    "print (\"End of the program...\")"
   ]
  },
  {
   "cell_type": "code",
   "execution_count": 88,
   "id": "5b04b70e-22b8-429a-9152-ff991bd7bfe3",
   "metadata": {},
   "outputs": [
    {
     "name": "stdout",
     "output_type": "stream",
     "text": [
      "Looping with i = 1...\n",
      "Looping with i = 2...\n",
      "Looping with i = 3...\n",
      "Looping with i = 4...\n",
      "Looping with i = 5...\n",
      "Looping with i = 6...\n",
      "Looping with i = 7...\n",
      "Looping with i = 8...\n",
      "Looping with i = 9...\n",
      "Looping with i = 10...\n",
      "ELSE: Executing the else block...\n",
      "ELSE: Smooth execution...\n",
      "Total number of loop iterations is 7...\n",
      "End of the program...\n"
     ]
    }
   ],
   "source": [
    "i = 1\n",
    "knount = 0\n",
    "while (i <= 10):\n",
    "    print (f\"Looping with i = {i}...\")\n",
    "    knount += 1\n",
    "    i += 1\n",
    "else:\n",
    "    print (\"ELSE: Executing the else block...\")\n",
    "    print (\"ELSE: Smooth execution...\")\n",
    "print (f\"Total number of loop iterations is {kount}...\")\n",
    "print (\"End of the program...\")"
   ]
  },
  {
   "cell_type": "code",
   "execution_count": 90,
   "id": "15514dfc-bca0-4b03-a1ba-e2d795d98a44",
   "metadata": {},
   "outputs": [
    {
     "name": "stdout",
     "output_type": "stream",
     "text": [
      "Visit Doctor...\n",
      "Good Morning...\n",
      "Day number = 1 and medicine number = 1...\n",
      "Day number = 1 and medicine number = 2...\n",
      "Day number = 1 and medicine number = 3...\n",
      "Good Night...\n",
      "--------------------------------------------------------\n",
      "Good Morning...\n",
      "Day number = 2 and medicine number = 1...\n",
      "Day number = 2 and medicine number = 2...\n",
      "Day number = 2 and medicine number = 3...\n",
      "Good Night...\n",
      "--------------------------------------------------------\n",
      "Good Morning...\n",
      "Day number = 3 and medicine number = 1...\n",
      "Day number = 3 and medicine number = 2...\n",
      "Day number = 3 and medicine number = 3...\n",
      "Good Night...\n",
      "--------------------------------------------------------\n",
      "Good Morning...\n",
      "Day number = 4 and medicine number = 1...\n",
      "Day number = 4 and medicine number = 2...\n",
      "Day number = 4 and medicine number = 3...\n",
      "Good Night...\n",
      "--------------------------------------------------------\n",
      "Good Morning...\n",
      "Day number = 5 and medicine number = 1...\n",
      "Day number = 5 and medicine number = 2...\n",
      "Day number = 5 and medicine number = 3...\n",
      "Good Night...\n",
      "--------------------------------------------------------\n",
      "Thanks to Doctor...\n"
     ]
    }
   ],
   "source": [
    "# nested looping\n",
    "print(\"Visit Doctor...\")   # 1 time\n",
    "medicount = 0\n",
    "for day in range(1, 6):\n",
    "    print (\"Good Morning...\")   # 5 times\n",
    "    for medi in range(1, 4):\n",
    "        print(f\"Day number = {day} and medicine number = {medi}...\")   # 15 times\n",
    "        medicount += 1   # 15 times\n",
    "    print (\"Good Night...\")   # 5 times\n",
    "    print (\"--------------------------------------------------------\")   # 5 times\n",
    "print(\"Thanks to Doctor...\")   # 1 time"
   ]
  },
  {
   "cell_type": "code",
   "execution_count": 91,
   "id": "fa52cecf",
   "metadata": {},
   "outputs": [
    {
     "name": "stdout",
     "output_type": "stream",
     "text": [
      "Visit Doctor...\n",
      "Good Morning...\n",
      "Day number = 1 and medicine number = 1...\n",
      "Day number = 1 and medicine number = 2...\n",
      "Day number = 1 and medicine number = 3...\n",
      "Good Night...\n",
      "--------------------------------------------------------\n",
      "Good Morning...\n",
      "Day number = 2 and medicine number = 1...\n",
      "Day number = 2 and medicine number = 2...\n",
      "Day number = 2 and medicine number = 3...\n",
      "Good Night...\n",
      "--------------------------------------------------------\n",
      "Good Morning...\n",
      "Day number = 3 and medicine number = 1...\n",
      "Day number = 3 and medicine number = 2...\n",
      "Day number = 3 and medicine number = 3...\n",
      "Good Night...\n",
      "--------------------------------------------------------\n",
      "Good Morning...\n",
      "Day number = 4 and medicine number = 1...\n",
      "Day number = 4 and medicine number = 2...\n",
      "Day number = 4 and medicine number = 3...\n",
      "Good Night...\n",
      "--------------------------------------------------------\n",
      "Good Morning...\n",
      "Day number = 5 and medicine number = 1...\n",
      "Day number = 5 and medicine number = 2...\n",
      "Day number = 5 and medicine number = 3...\n",
      "Good Night...\n",
      "--------------------------------------------------------\n",
      "Thanks to Doctor...\n"
     ]
    }
   ],
   "source": [
    "# nested looping with while blocks\n",
    "print(\"Visit Doctor...\")   # 1 time\n",
    "medicount = 0\n",
    "day = 1\n",
    "while (day <= 5):\n",
    "    print (\"Good Morning...\")   # 5 times\n",
    "    medi = 1\n",
    "    while (medi <= 3):\n",
    "        print(f\"Day number = {day} and medicine number = {medi}...\")   # 15 times\n",
    "        medicount += 1   # 15 times\n",
    "        medi += 1\n",
    "    print (\"Good Night...\")   # 5 times\n",
    "    print (\"--------------------------------------------------------\")   # 5 times\n",
    "    day += 1\n",
    "print(\"Thanks to Doctor...\")   # 1 time"
   ]
  },
  {
   "cell_type": "code",
   "execution_count": null,
   "id": "bb9c4f75-2fda-4588-8f06-2e5c5a9b4818",
   "metadata": {},
   "outputs": [],
   "source": [
    "Pattern - 1\n",
    "-----------\n",
    "n = 6 (user i/p)      i    .    *\n",
    "                    ---------------\n",
    ".....*                1    5    1       (n, i)\n",
    "....***               2    4    3  . => (n - i)\n",
    "...*****              3    3    5\n",
    "..*******             4    2    7  * => (2 * i - 1)\n",
    ".*********            5    1    9\n",
    "***********           6    0   11\n",
    "                    ---------------  Tracing Table"
   ]
  },
  {
   "cell_type": "code",
   "execution_count": 95,
   "id": "1f34b2fe-24ac-463d-a193-87d45a6c3690",
   "metadata": {},
   "outputs": [
    {
     "name": "stdin",
     "output_type": "stream",
     "text": [
      "Please enter the number of layers of the pattern: 7\n"
     ]
    },
    {
     "name": "stdout",
     "output_type": "stream",
     "text": [
      "......*\n",
      ".....***\n",
      "....*****\n",
      "...*******\n",
      "..*********\n",
      ".***********\n",
      "*************\n",
      "End of the pattern...\n"
     ]
    }
   ],
   "source": [
    "n = int(input(\"Please enter the number of layers of the pattern:\"))\n",
    "for i in range(1, n + 1):\n",
    "    print (\".\" * (n - i) + \"*\" * (2 * i - 1))\n",
    "print(\"End of the pattern...\")"
   ]
  },
  {
   "cell_type": "code",
   "execution_count": null,
   "id": "cd29a8ff",
   "metadata": {},
   "outputs": [],
   "source": [
    "Pattern - 2\n",
    "-----------\n",
    "n = 6 (user i/p)      i    .    *\n",
    "                    ---------------\n",
    "***********           1    0   11       (n, i)\n",
    ".*********            2    1    9  . => (i - 1)\n",
    "..*******             3    2    7\n",
    "...*****              4    3    5  * => (2 * (n - i) + 1)\n",
    "....***               5    4    3\n",
    ".....*                6    5    1\n",
    "                    ---------------  Tracing Table   "
   ]
  },
  {
   "cell_type": "code",
   "execution_count": 97,
   "id": "a4b03718",
   "metadata": {},
   "outputs": [
    {
     "name": "stdin",
     "output_type": "stream",
     "text": [
      "Please enter the number of layers of the pattern: 6\n"
     ]
    },
    {
     "name": "stdout",
     "output_type": "stream",
     "text": [
      "***********\n",
      ".*********\n",
      "..*******\n",
      "...*****\n",
      "....***\n",
      ".....*\n",
      "End of the pattern...\n"
     ]
    }
   ],
   "source": [
    "n = int(input(\"Please enter the number of layers of the pattern:\"))\n",
    "for i in range(1, n + 1):\n",
    "    print (\".\" * (i - 1) + \"*\" * (2 * (n - i) + 1))\n",
    "print(\"End of the pattern...\")"
   ]
  },
  {
   "cell_type": "code",
   "execution_count": null,
   "id": "f03885a6-4044-4a0a-a411-55254d276eb3",
   "metadata": {},
   "outputs": [],
   "source": [
    "Pattern - 3\n",
    "-----------\n",
    "n = 11 (user ODD i/p) i    .    *    m = (n + 1) // 2 = 6\n",
    "                    ---------------\n",
    ".....*                1    5    1       (n, m, i)\n",
    "....***               2    4    3  . => (m - i)\n",
    "...*****              3    3    5\n",
    "..*******             4    2    7  * => (2 * i - 1)\n",
    ".*********            5    1    9\n",
    "***********         __6____0___11__\n",
    ".*********            7    1    9\n",
    "..*******             8    2    7  . => (i - m)\n",
    "...*****              9    3    5\n",
    "....***              10    4    3  * => (2 * (n - i) + 1)\n",
    ".....*               11    5    1\n",
    "                    ---------------  Tracing Table"
   ]
  },
  {
   "cell_type": "code",
   "execution_count": 103,
   "id": "4bcd62b7-0ad0-471f-a979-4ecb480c3de0",
   "metadata": {},
   "outputs": [
    {
     "name": "stdin",
     "output_type": "stream",
     "text": [
      "Please enter the ODD number of layers of the pattern: 10\n",
      "Please enter the ODD number of layers of the pattern: 20\n",
      "Please enter the ODD number of layers of the pattern: 30\n",
      "Please enter the ODD number of layers of the pattern: 14\n",
      "Please enter the ODD number of layers of the pattern: 11\n"
     ]
    },
    {
     "name": "stdout",
     "output_type": "stream",
     "text": [
      ".....*\n",
      "....***\n",
      "...*****\n",
      "..*******\n",
      ".*********\n",
      "***********\n",
      ".*********\n",
      "..*******\n",
      "...*****\n",
      "....***\n",
      ".....*\n",
      "End of the pattern...\n"
     ]
    }
   ],
   "source": [
    "while (True):\n",
    "    n = int(input(\"Please enter the ODD number of layers of the pattern:\"))\n",
    "    if (n % 2 == 1): break\n",
    "m = (n + 1) // 2\n",
    "for i in range(1, n + 1):\n",
    "    if (i <= m):\n",
    "        print (\".\" * (m - i) + \"*\" * (2 * i - 1))\n",
    "    else:\n",
    "        print (\".\" * (i - m) + \"*\" * (2 * (n - i) + 1))\n",
    "print(\"End of the pattern...\")"
   ]
  },
  {
   "cell_type": "code",
   "execution_count": null,
   "id": "fc0083e5",
   "metadata": {},
   "outputs": [],
   "source": [
    "Pattern - 4\n",
    "-----------\n",
    "n = 11 (user ODD i/p) i    .    *    m = (n + 1) // 2 = 6\n",
    "                    ---------------\n",
    "***********           1    0   11       (n, m, i)\n",
    ".*********            2    1    9  . => (???)\n",
    "..*******             3    2    7\n",
    "...*****              4    3    5  * => (???)\n",
    "....***               5    4    3\n",
    ".....*              __6____5____1__\n",
    "....***               7    4    3\n",
    "...*****              8    3    5  . => (???)\n",
    "..*******             9    2    7\n",
    ".*********           10    1    9  * => (???)\n",
    "***********          11    0   11\n",
    "                    ---------------  Tracing Table"
   ]
  },
  {
   "cell_type": "code",
   "execution_count": null,
   "id": "e4d30bb7",
   "metadata": {},
   "outputs": [],
   "source": [
    "while (True):\n",
    "    n = int(input(\"Please enter the ODD number of layers of the pattern:\"))\n",
    "    if (n % 2 == 1): break\n",
    "m = (n + 1) // 2\n",
    "for i in range(1, n + 1):\n",
    "    if (i <= m):\n",
    "        print (\".\" * (???) + \"*\" * (???))\n",
    "    else:\n",
    "        print (\".\" * (???) + \"*\" * (???))\n",
    "print(\"End of the pattern...\")"
   ]
  },
  {
   "cell_type": "code",
   "execution_count": null,
   "id": "2d98a290-2db8-497b-9672-aa5a6da5833d",
   "metadata": {},
   "outputs": [],
   "source": [
    "## **Python Inbuilt Collections**"
   ]
  },
  {
   "cell_type": "code",
   "execution_count": null,
   "id": "132e0004-f848-402a-a27d-7f5efdd5907c",
   "metadata": {},
   "outputs": [],
   "source": [
    "# different inbuilt collections\n",
    "list1 = [100, 2.45, True, \"Food\", 201]   # mutable\n",
    "print (list1, len(list1), type(list1), id(list1))\n",
    "tuple1 = (100, 2.45, True, \"Food\", 201)   # immutable, read only\n",
    "print (tuple1, len(tuple1), type(tuple1), id(tuple1))\n",
    "dict1 = {'name':'Bidisha', 'location':'Noida', 'job':'Developer', 'company':'Accenture'} # mutable\n",
    "print (dict1, len(dict1), type(dict1), id(dict1))\n",
    "set1 = {\"Delhi\", 100, 2.45, True, \"Food\", 201, True, \"Food\", 201}\n",
    "print (set1, len(set1), type(set1), id(set1))\n",
    "fset1 = frozenset([\"Delhi\", 100, 2.45, True, \"Food\", 201, True, \"Food\", 201]) # immutable, read only\n",
    "print (fset1, len(fset1), type(fset1), id(fset1))"
   ]
  },
  {
   "cell_type": "code",
   "execution_count": null,
   "id": "4c687800-dea8-461f-b77a-2ffee2867bcd",
   "metadata": {},
   "outputs": [],
   "source": [
    "## **Section-3 - User Defined Function (UDF)**"
   ]
  },
  {
   "cell_type": "code",
   "execution_count": null,
   "id": "e846e774-f064-4cb7-b255-be22dc5684dd",
   "metadata": {},
   "outputs": [],
   "source": [
    "## **Lambda Function**\n",
    "\n",
    "> In Python programming, a lambda function is a small anonymous function that can have any number of arguments, but can only have one expression. The expression is evaluated and returned as the function result. Lambda functions are commonly used in combination with higher-order functions such as map(), filter(), and reduce().\n",
    "\n",
    "Some of the properties of lambda functions in Python programming include:\n",
    "* **Anonymous:** Lambda functions are anonymous, meaning they do not have a name like regular functions. They are defined using the keyword \"lambda\" followed by the arguments and the expression.\n",
    "* **Single Expression:** A lambda function can only contain a single expression that is evaluated and returned as the function result. This means that it cannot contain multiple statements or control flow structures.\n",
    "* **Concise:** Lambda functions are concise and can be defined in a single line of code. This makes them useful for defining simple functions on-the-fly.\n",
    "* **Immutable:** Lambda functions are immutable, meaning they cannot be modified once defined. This means that you cannot change the behavior of a lambda function after it has been defined.\n",
    "* **Higher-order Functions:** Lambda functions are often used in combination with higher-order functions such as map(), filter(), and reduce(). These functions take other functions as arguments and return new functions as results.\n",
    "* **Memory-efficient:** Lambda functions are memory-efficient since they are defined on-the-fly and do not require a separate function definition. This can be useful when working with large data sets or when memory usage is a concern.#### Lambda Function\n",
    "> In Python programming, a lambda function is a small anonymous function that can have any number of arguments, but can only have one expression. The expression is evaluated and returned as the function result. Lambda functions are commonly used in combination with higher-order functions such as map(), filter(), and reduce().\n",
    "\n",
    "Some of the properties of lambda functions in Python programming include:\n",
    "* **Anonymous:** Lambda functions are anonymous, meaning they do not have a name like regular functions. They are defined using the keyword \"lambda\" followed by the arguments and the expression.\n",
    "* **Single Expression:** A lambda function can only contain a single expression that is evaluated and returned as the function result. This means that it cannot contain multiple statements or control flow structures.\n",
    "* **Concise:** Lambda functions are concise and can be defined in a single line of code. This makes them useful for defining simple functions on-the-fly.\n",
    "* **Immutable:** Lambda functions are immutable, meaning they cannot be modified once defined. This means that you cannot change the behavior of a lambda function after it has been defined.\n",
    "* **Higher-order Functions:** Lambda functions are often used in combination with higher-order functions such as map(), filter(), and reduce(). These functions take other functions as arguments and return new functions as results.\n",
    "* **Memory-efficient:** Lambda functions are memory-efficient since they are defined on-the-fly and do not require a separate function definition. This can be useful when working with large data sets or when memory usage is a concern."
   ]
  },
  {
   "cell_type": "code",
   "execution_count": null,
   "id": "fbd5dd62-24ab-49d4-92ff-b61d41401a88",
   "metadata": {},
   "outputs": [],
   "source": [
    "## **Importing Modules**"
   ]
  },
  {
   "cell_type": "code",
   "execution_count": null,
   "id": "75783013-affd-45a9-a15a-f9f38cf75066",
   "metadata": {},
   "outputs": [],
   "source": [
    "## ****"
   ]
  }
 ],
 "metadata": {
  "kernelspec": {
   "display_name": "Python 3 (ipykernel)",
   "language": "python",
   "name": "python3"
  },
  "language_info": {
   "codemirror_mode": {
    "name": "ipython",
    "version": 3
   },
   "file_extension": ".py",
   "mimetype": "text/x-python",
   "name": "python",
   "nbconvert_exporter": "python",
   "pygments_lexer": "ipython3",
   "version": "3.11.7"
  }
 },
 "nbformat": 4,
 "nbformat_minor": 5
}
