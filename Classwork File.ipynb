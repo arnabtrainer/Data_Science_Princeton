{
 "cells": [
  {
   "cell_type": "markdown",
   "id": "5a996d26-7d84-4e63-86e1-641d7fe377ad",
   "metadata": {},
   "source": [
    "# **Python Scripting**"
   ]
  },
  {
   "cell_type": "markdown",
   "id": "2487d476-744e-4289-9d28-60f08cc8812c",
   "metadata": {},
   "source": [
    "## **Section-1: Python Inputs and Outputs**"
   ]
  },
  {
   "cell_type": "code",
   "execution_count": 5,
   "id": "370c9962-a327-431a-ab85-9792819b0db4",
   "metadata": {},
   "outputs": [
    {
     "name": "stdin",
     "output_type": "stream",
     "text": [
      "Please enter the first number:  100\n",
      "Please enter the second number:  200\n"
     ]
    },
    {
     "name": "stdout",
     "output_type": "stream",
     "text": [
      "<class 'str'> <class 'str'> <class 'str'>\n",
      "100 200 100200\n",
      "End of the program...\n"
     ]
    }
   ],
   "source": [
    "# Addition of two integer numbers\n",
    "num1 = input(\"Please enter the first number: \")\n",
    "num2 = input(\"Please enter the second number: \")\n",
    "total = num1 + num2\n",
    "print (type(num1), type(num2), type(total))\n",
    "print(num1, num2, total)\n",
    "print(\"End of the program...\")"
   ]
  },
  {
   "cell_type": "code",
   "execution_count": 6,
   "id": "45f3e149",
   "metadata": {},
   "outputs": [
    {
     "name": "stdin",
     "output_type": "stream",
     "text": [
      "Please enter the first number:  100\n",
      "Please enter the second number:  200\n"
     ]
    },
    {
     "name": "stdout",
     "output_type": "stream",
     "text": [
      "<class 'int'> <class 'int'> <class 'int'>\n",
      "100 200 300\n",
      "End of the program...\n"
     ]
    }
   ],
   "source": [
    "# Addition of two integer numbers\n",
    "num1 = int(input(\"Please enter the first number: \"))\n",
    "num2 = int(input(\"Please enter the second number: \"))\n",
    "total = num1 + num2\n",
    "print (type(num1), type(num2), type(total))\n",
    "print(num1, num2, total)\n",
    "print(\"End of the program...\")"
   ]
  },
  {
   "cell_type": "code",
   "execution_count": 21,
   "id": "b230803e-3b6c-4ab2-a18a-6c03d9b24fbe",
   "metadata": {},
   "outputs": [
    {
     "name": "stdout",
     "output_type": "stream",
     "text": [
      "So 100 + 200 = 300\n",
      "So 100 + 200 = 300\n",
      "So 100 + 200 = 300\n",
      "So 100 + 200 = 300\n",
      "So 100 + 200 = 300\n",
      "So 100 + 200 = 300\n",
      "So 100 + 200 = 300\n",
      "So 100 + 200 = 300\n",
      "So 100 + 200 = 300.000000\n",
      "So 100 + 200 =    300.000\n",
      "So 100 + 200 = 300\n"
     ]
    }
   ],
   "source": [
    "print(\"So\", num1, \"+\", num2, \"=\", total)\n",
    "print(\"So \" + str(num1) + \" + \" + str(num2) + \" = \" + str(total))\n",
    "print(\"So {} + {} = {}\".format(num1, num2, total))   # {} is called variable placeholder\n",
    "print(\"So {0} + {1} = {2}\".format(num1, num2, total))  # indexed placeholder\n",
    "print(\"So {2} + {1} = {0}\".format(total, num2, num1))  # indexed placeholder\n",
    "print(\"So {fnum} + {snum} = {tot}\".format(fnum = num1, snum = num2, tot = total))  # labelled placeholder\n",
    "print(\"So {fnum} + {snum} = {tot}\".format(fnum = num1, tot = total, snum = num2))  # labelled placeholder\n",
    "print(\"So %d + %d = %d\"%(num1, num2, total))\n",
    "print(\"So %d + %d = %f\"%(num1, num2, total))\n",
    "print(\"So %d + %d = %10.3f\"%(num1, num2, total))\n",
    "print(f\"So {num1} + {num2} = {total}\")  # smart formatting"
   ]
  },
  {
   "cell_type": "code",
   "execution_count": null,
   "id": "37443753-4ada-4a76-a16d-f58050572525",
   "metadata": {},
   "outputs": [],
   "source": []
  },
  {
   "cell_type": "code",
   "execution_count": null,
   "id": "b79433c0-3b38-4bae-8682-b62e12410463",
   "metadata": {},
   "outputs": [],
   "source": []
  },
  {
   "cell_type": "code",
   "execution_count": null,
   "id": "5ce52a47-fd1c-42b4-a8be-06a96f961352",
   "metadata": {},
   "outputs": [],
   "source": []
  },
  {
   "cell_type": "code",
   "execution_count": null,
   "id": "cf24c3f0-9bd2-44d9-8ed7-6951f154169a",
   "metadata": {},
   "outputs": [],
   "source": []
  }
 ],
 "metadata": {
  "kernelspec": {
   "display_name": "Python 3 (ipykernel)",
   "language": "python",
   "name": "python3"
  },
  "language_info": {
   "codemirror_mode": {
    "name": "ipython",
    "version": 3
   },
   "file_extension": ".py",
   "mimetype": "text/x-python",
   "name": "python",
   "nbconvert_exporter": "python",
   "pygments_lexer": "ipython3",
   "version": "3.11.7"
  }
 },
 "nbformat": 4,
 "nbformat_minor": 5
}
